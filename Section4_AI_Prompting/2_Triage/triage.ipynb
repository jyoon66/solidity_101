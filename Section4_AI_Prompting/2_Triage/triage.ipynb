{
 "cells": [
  {
   "cell_type": "markdown",
   "id": "2fa9e13c",
   "metadata": {},
   "source": [
    "#### Introduction\n",
    "\n",
    "To get the most out of this course's tools and techniques, we've got some tips and tricks for you. In this lesson, we'll go over some recommended best practices:\n",
    "\n",
    "#### Limit Self-Triage Time\n",
    "\n",
    "When encountering an error, limit your troubleshooting time to 15-20 minutes. For example, if you are trying to compile `PriceConverter.sol` and keep receiving an error indicating a missing argument, spend a limited amount of time attempting to solve it on your own. If you can't resolve it after 15-20 minutes, copy the error message and use your resources to ask for help.\n",
    "\n",
    "#### Utilize AI Wisely \n",
    "\n",
    "While AI tools like ChatGPT can be very helpful, it's important not to rely on them entirely. It's crucial to learn the material yourself first and recognize when AI make mistakes, also known as **hallucinations**. For instance, if you ask ChatGPT about Foundry, it might provide inaccurate information because it may not be trained on it. Always verify AI responses with additional research.\n",
    "\n",
    "#### Engage with Forums\n",
    "\n",
    "When you're stuck on an issue you can't solve, you can visit forum platforms like Stack Exchange or Peeranha to ask questions, help others, and learn collaboratively. Ensure your questions are well-formatted using **Markdown** to improve clarity and the chances of getting helpful responses. If you need guidance on how to format, use AI to ask examples of well-formatted queries.\n",
    "\n",
    "#### GitHub Issues\n",
    "\n",
    "If you can't get help elsewhere, you can open an Github Issue in the [GitHub's Issue Tracker](https://github.com/Cyfrin/remix-fund-me-cu/issues). This section allows you to interact with the developer community, report bugs, and suggest enhancements. Remember to always search within existing issues before posting to avoid duplicates.\n",
    "\n",
    "GitHub is essential for sharing, writing, and interacting with fellow developers, as well as accessing and contributing to code. We will use it as a **portfolio** for our projects throughout the courses. This portfolio will become very valuable when applying for jobs, because it easily showcase your coding skills and contributions to open-source projects."
   ]
  }
 ],
 "metadata": {
  "language_info": {
   "name": "python"
  }
 },
 "nbformat": 4,
 "nbformat_minor": 5
}
