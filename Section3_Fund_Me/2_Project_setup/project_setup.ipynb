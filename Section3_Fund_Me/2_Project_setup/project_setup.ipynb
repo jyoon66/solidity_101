{
 "cells": [
  {
   "cell_type": "markdown",
   "id": "977f2498",
   "metadata": {},
   "source": [
    "#### Introduction\n",
    "\n",
    "Let's begin by coding `FundMe`, a crowdfunding contract allowing users to send funds, which the owner can later withdraw. Before we start, let's clean up our Remix IDE workspace\n",
    "\n",
    "#### Setting up the project\n",
    "\n",
    "Start from scratch by opening your Remix IDE and deleting all existing contracts. Next, create a new contract named `FundMe`.\n",
    "\n",
    "```\n",
    "IMPORTANT:\n",
    "```\n",
    "* Before you start coding, try to write down in plain English what you want your code to achieve. This helps claify your goals and structure your approach.\n",
    "\n",
    "We want `FundMe` to perform the following tasks:\n",
    "\n",
    "1. **Allow users to send funds into the contract:** users should be able to deposit funds into the 'FundMe' contract\n",
    "2. **Enable withdrawal of funds by the contrat owner:** the account that owns `FundMe` should have the ability to withdraw all deposited funds\n",
    "3. **Set a minimum funding value in USD:** there should be a minimum amount that can be deposited into the contract\n",
    "\n",
    "Let's outline the core structure of the contract:"
   ]
  },
  {
   "cell_type": "code",
   "execution_count": null,
   "id": "e21d190b",
   "metadata": {
    "vscode": {
     "languageId": "javascript"
    }
   },
   "outputs": [],
   "source": [
    "// SPDX-License-Identifier: MIT\n",
    "pragma solidity ^0.8.18;\n",
    "contract FundMe {}"
   ]
  },
  {
   "cell_type": "markdown",
   "id": "7fea76a1",
   "metadata": {},
   "source": [
    "#### fund and withdraw functions \n",
    "\n",
    "The FundMe contract will have two primary functions that serve as the main interaction points:\n",
    "\n",
    "1. `fund`: allows users to deposit funds into the contract\n",
    "2. `withdraw`: grants the contract owner the ability to withdraw the funds that have been previously deposited\n",
    "\n",
    "First, let's code the `fund` function and leave the `withdraw` function commented out for the moment."
   ]
  },
  {
   "cell_type": "code",
   "execution_count": null,
   "id": "b38d01ed",
   "metadata": {
    "vscode": {
     "languageId": "javascript"
    }
   },
   "outputs": [],
   "source": [
    "contract FundMe {\n",
    "    // send funds into our contract\n",
    "    function fund() public {}\n",
    "    \n",
    "    // owner can withdraw funds\n",
    "    /*function withdraw() public {}*/\n",
    "}"
   ]
  },
  {
   "cell_type": "markdown",
   "id": "198dd4d8",
   "metadata": {},
   "source": [
    "#### Conclusion\n",
    "\n",
    "In this lesson, we created a new `FundMe` contract and broadly defined the logic that will be performed.\n",
    "\n",
    "#### Test yourself\n",
    "\n",
    "1. Why should a developer always otuline his coding goals before starting to code?\n",
    "   * To help clarify your goals and structure your approach."
   ]
  }
 ],
 "metadata": {
  "language_info": {
   "name": "python"
  }
 },
 "nbformat": 4,
 "nbformat_minor": 5
}
