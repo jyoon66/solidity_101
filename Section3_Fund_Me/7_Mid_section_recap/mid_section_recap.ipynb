{
 "cells": [
  {
   "cell_type": "markdown",
   "id": "a5e68198",
   "metadata": {},
   "source": [
    "#### Introduction\n",
    "\n",
    "From lessons 1 to 5 we've explored the usage of the keyword `payable`, the global property `msg.value` and what happens when a function reverts.\n",
    "\n",
    "#### payable, required, msg.value\n",
    "\n",
    "To enable a function to receive a native blockchain token such as Ethereum, it must be marked as `payable`:"
   ]
  },
  {
   "cell_type": "code",
   "execution_count": null,
   "id": "85a32ab2",
   "metadata": {
    "vscode": {
     "languageId": "javascript"
    }
   },
   "outputs": [],
   "source": [
    "function deposit() public payable {\n",
    "    balances[msg.sender] += msg.value;\n",
    "}"
   ]
  },
  {
   "cell_type": "markdown",
   "id": "02f7808e",
   "metadata": {},
   "source": [
    "If we want a function to fail under certain conditions, we can use the `require` statement. For example, in a bank transfer scenario, we want the operation to fail if the sender does not have enough balance. Here's an example:"
   ]
  },
  {
   "cell_type": "code",
   "execution_count": null,
   "id": "301416c9",
   "metadata": {
    "vscode": {
     "languageId": "javascript"
    }
   },
   "outputs": [],
   "source": [
    "function transfer(address recipient, uint amount) public {\n",
    "    require(balances[msg.sender] >= amount);\n",
    "    balances[msg.sender] -= amount;\n",
    "    balances[recipient] += amount;\n",
    "}"
   ]
  },
  {
   "cell_type": "markdown",
   "id": "e89fe6a3",
   "metadata": {},
   "source": [
    "In this code, if the condition `balances[msg.sender] >= amount` isnot met, the transaction will revert. This means the operation undoes any previous actions and will not consume the total maximum gas allocated by the user.\n",
    "\n",
    "The Solidity global property msg.value contains the amount of cryptocurrency sent with a transaction.\n",
    "\n",
    "#### Integrating External Data with Chainlink\n",
    "\n",
    "Chainlink is a revolutionary technology that enables the integration of external data and computation into smart contracts. It provides a decentralized way of **injecting data**, which is particularly useful for assets whose values fluctuate over time. For instance, if a smart contract deals with real-world assets such as stocks or commodities, obtaining real-time pricing information is crucial.\n",
    "\n",
    "\n",
    "```\n",
    "NOTE:\n",
    "```\n",
    "* Chainlink enables smart contracts to interact with real-world data and services without sacrificing the security and reliability guarantees inherent to blockchain technology.\n",
    "\n",
    "Consider a smart contract that deals with a commoditiy like gold. *Chainlink Price Feeds* can provide real-time gold prices, allowing the smart contract to reflect the current market prices."
   ]
  },
  {
   "cell_type": "code",
   "execution_count": null,
   "id": "c84a7f7a",
   "metadata": {
    "vscode": {
     "languageId": "javascript"
    }
   },
   "outputs": [],
   "source": [
    "import \"@chainlink/contracts/src/v0.6/interfaces/AggregatorV3Interface.sol\";\n",
    "contract GoldPriceContract {\n",
    "    AggregatorV3Interface internal priceFeed;\n",
    "    // The Chainlink price feed contract address\n",
    "    constructor() public {\n",
    "        priceFeed = AggregatorV3Interface(0x8468b2bDCE073A157E560AA4D9CcF6dB1DB98507);\n",
    "    }\n",
    "    // Get the latest gold price\n",
    "    function getLatestGoldPrice() public view returns (int) {\n",
    "        (,int price,,,) = priceFeed.latestRoundData();\n",
    "        return price;\n",
    "    }\n",
    "}"
   ]
  },
  {
   "cell_type": "markdown",
   "id": "5b445adc",
   "metadata": {},
   "source": [
    "In this example, *Chainlink Feeds* are used to query the latest price of gold, ensuring the smart contract has up-to-date market information.\n",
    "\n",
    "#### Conclusion\n",
    "\n",
    "Understanding and utilizing payable, require, and msg.value is crucial for handling transactions in Solidity. Besides that, Chainlink enhances smart contract functionality by providing access to real-world data, allowing for more dynamic and reliable decentralized applications.\n",
    "\n",
    "#### Test yourself\n",
    "\n",
    "1. What are the three primary topics covered from lessons 1 to 5?\n",
    "   * Sending and receiving ETH\n",
    "   * Reverting a transaction\n",
    "   * Oracles (Chainlink)"
   ]
  }
 ],
 "metadata": {
  "language_info": {
   "name": "python"
  }
 },
 "nbformat": 4,
 "nbformat_minor": 5
}
