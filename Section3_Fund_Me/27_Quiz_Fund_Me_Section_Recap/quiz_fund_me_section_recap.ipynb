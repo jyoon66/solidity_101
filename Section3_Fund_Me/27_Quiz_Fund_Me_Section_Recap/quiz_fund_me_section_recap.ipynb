{
 "cells": [
  {
   "cell_type": "markdown",
   "id": "3ba097fd",
   "metadata": {},
   "source": [
    "1. How does the immutable keyword differ from the constant keyword in Solidity?\n",
    "   * The immutable keyword allows values to be set at runtime, while the constant keyword requires values to be set at compile time.\n",
    "\n",
    "2. Which of the following is a valid way to add functionality to a function using a modifier?\n",
    "   * function myFunction() public onlyAdmin { ... }\n",
    "\n",
    "3. What Solidity keyword allows variables to be set only once during the initial contract deployment?\n",
    "   * Immutable\n",
    "\n",
    "4. When are constant and immutable variables initialized in Solidity?\n",
    "   * Constant variables are initialized at compile time, while immutable variables are initialized at deployment time.\n",
    "\n",
    "5. How does the fallback function differ from the receive function in Solidity?\n",
    "   * The receive function is specifically designed to handle Ether transfers without data and is automatically invoked when Ehter. The fallback function is used for handling calls with data or when the receive function is not defined. The fallback function can also handle Ether transfers with data.\n",
    "\n",
    "6. Why is it beneficial to use modifiers for access control?\n",
    "   * Modifiers allow reusable code to be applied to functions, reducing code duplication and improving readability."
   ]
  }
 ],
 "metadata": {
  "language_info": {
   "name": "python"
  }
 },
 "nbformat": 4,
 "nbformat_minor": 5
}
