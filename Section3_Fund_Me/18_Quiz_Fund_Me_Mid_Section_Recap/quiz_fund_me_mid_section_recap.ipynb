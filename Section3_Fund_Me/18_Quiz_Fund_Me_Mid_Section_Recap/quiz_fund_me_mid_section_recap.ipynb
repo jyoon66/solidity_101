{
 "cells": [
  {
   "cell_type": "markdown",
   "id": "0503d34a",
   "metadata": {},
   "source": [
    "1. Which Solidity keyword specifies that a function can only be called by another contract or wallet, and not within the same contract?\n",
    "   * External\n",
    "\n",
    "2. What is type casting in Solidity?\n",
    "   * Converting a value from one data type to another.\n",
    "\n",
    "3. Why is it important to multiply before dividing in Solidity to maintain precision, and how does this affect calculations?\n",
    "   * Multiplying before dividing ensures that precision is preserved, as Solidity performs integer division where truncation occurs if division is done first. For example, (5 * 2) / 3 yields 3, whereas (5 / 3) * 2 yields 2.\n",
    "\n",
    "4. What does the global variable 'msg.sender' represent?\n",
    "   * The sender of the current message or transaction.\n",
    "\n",
    "5. What is the primary purpose of creating a library in Solidity?\n",
    "   * To reuse common functionality across multiple contract.\n",
    "\n",
    "6. What is the significance of the 'unchecked' keyword in Solidity?\n",
    "   * It allows developers to bypass built-in overflow checks, potentially improving gas efficiency but increasing the risk of errors.\n",
    "\n",
    "7. Which of the following Solidity code snippets would cause an overflow error if executed?\n",
    "   * uint8 x = 255; x = x + 1;\n",
    "\n",
    "8. When using a 'for' loop to iterate through an array, how do you access the current element being processed during each iteration?\n",
    "   * Use the Iterator variable as an index to access the array element."
   ]
  }
 ],
 "metadata": {
  "language_info": {
   "name": "python"
  }
 },
 "nbformat": 4,
 "nbformat_minor": 5
}
