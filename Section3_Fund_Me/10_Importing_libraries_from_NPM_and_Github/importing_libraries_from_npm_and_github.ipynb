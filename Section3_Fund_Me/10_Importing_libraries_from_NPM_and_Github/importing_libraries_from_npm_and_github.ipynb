{
 "cells": [
  {
   "cell_type": "markdown",
   "id": "694c8e41",
   "metadata": {},
   "source": [
    "#### Introduction\n",
    "\n",
    "As we delve into smart contract development, **interacting** with external smart contracts will become increasingly frequent. This can involve the use of multiple interfaces, which can clog up the source code and make it difficult to read.\n",
    "\n",
    "#### Interfaces\n",
    "\n",
    "Let's take a look at the `SmartContract` interface as an example:"
   ]
  },
  {
   "cell_type": "code",
   "execution_count": null,
   "id": "8b712eb6",
   "metadata": {
    "vscode": {
     "languageId": "javascript"
    }
   },
   "outputs": [],
   "source": [
    "interface SmartContract {\n",
    "    function someFunction() external view returns(Uint16Array, uint){};\n",
    "}"
   ]
  },
  {
   "cell_type": "markdown",
   "id": "28fc1cda",
   "metadata": {},
   "source": [
    "To include this contract, we simply use the `import \"./SimpleStorage.sol\"` statement at the top of our file, Instead, if the project is not stored locally, we can use imports from Github.\n",
    "\n",
    "#### Direct Imports from Github\n",
    "\n",
    "Smart Contracts *hosted on Github* can be imported directly into your project. For instance, consider the `AggregatorV3Interface` contract from Chainlink, which is located in Chainlink's GitHub repository and not in our project's directory.\n",
    "\n",
    "Instead of manually copying all its code into your project and then importing it like this:"
   ]
  },
  {
   "cell_type": "code",
   "execution_count": null,
   "id": "df45d14a",
   "metadata": {
    "vscode": {
     "languageId": "javascript"
    }
   },
   "outputs": [],
   "source": [
    "import { AggregatorV3Interface } from \"./AggregatorV3Interface.sol\";"
   ]
  },
  {
   "cell_type": "markdown",
   "id": "f8595573",
   "metadata": {},
   "source": [
    "we can import it more efficiently, as specified in the [Chainlink documentation](https://docs.chain.link/docs/using-chainlink-reference-contracts):"
   ]
  },
  {
   "cell_type": "code",
   "execution_count": null,
   "id": "4a98bc35",
   "metadata": {
    "vscode": {
     "languageId": "javascript"
    }
   },
   "outputs": [],
   "source": [
    "import { AggregatorV3Interface } from \"@chainlink/contracts/src/v0.8/interfaces/AggregatorV3Interface.sol\";"
   ]
  },
  {
   "cell_type": "markdown",
   "id": "e2a624b3",
   "metadata": {},
   "source": [
    "This import statement includes the **path** to the AggregatorV3Interface.sol file in the GitHub repository, allowing you to directly import the contract from GitHub or NPM (Node Package Manager).\n",
    "\n",
    "#### Importing from NPM\n",
    "\n",
    "The `@chainlink/contracts` package, available on NPM, follows **Semantic Versioning (SemVer)**, which allows you to download and use specific versions in your contracts (e.g., `npm install @chainlink/contracts@1.2.3`) while being directly *synchronized* with Chainlink's GitHub repository. The rest of the import path specifies the exact file that Remix should use.\n",
    "\n",
    "Remix interprets `@chainlink/contracts` as a reference to the [NPM package](https://www.npmjs.com/package/@chainlink/contracts), and downloads all the necessary code from it."
   ]
  },
  {
   "cell_type": "code",
   "execution_count": null,
   "id": "b0bc0072",
   "metadata": {
    "vscode": {
     "languageId": "javascript"
    }
   },
   "outputs": [],
   "source": [
    "pragma solidity ^0.8.18;\n",
    "import {AggregatorV3Interface} from \"@chainlink/contracts/src/v0.8/interfaces/AggregatorV3Interface.sol\";\n",
    "contract FundMe{}"
   ]
  },
  {
   "cell_type": "markdown",
   "id": "8e631d0b",
   "metadata": {},
   "source": [
    "#### Conclusoin\n",
    "\n",
    "Effienciently managing external smart contracts is crucial in smart contract development to maintain *clean and readable* source code. Utilizing **direct imports** from GitHub and NPM, as shown with Chainlink's AggregatorV3Interface, simplifies this process.\n",
    "\n",
    "#### Test yourself\n",
    "\n",
    "1. What is this statement `@chainlink/contracts/src/v0.8/interfaces/AggregatorV3Interface.sol` translated into when interpreted by the solidity compiler?\n",
    "   * It imports the AggregatorV3Interface.sol contract directly from GitHub or NPM\n",
    "   * It is looking into the chainlink contracts folder version 0.8 "
   ]
  },
  {
   "cell_type": "markdown",
   "id": "fdd5c6cc",
   "metadata": {},
   "source": [
    "### *** Update (06/12/2025) ***\n",
    "\n",
    "#### Correct import for Chainlink VRF\n",
    "\n",
    "Note that as mentioned on the video for the `2024 update`, the import for Chainlink VRF changed from:"
   ]
  },
  {
   "cell_type": "code",
   "execution_count": null,
   "id": "ff2ee18d",
   "metadata": {
    "vscode": {
     "languageId": "javascript"
    }
   },
   "outputs": [],
   "source": [
    "import {AggregatorV3Interface} from \"@chainlink/contracts/src/v0.8/interfaces/AggregatorV3Interface.sol\";"
   ]
  },
  {
   "cell_type": "markdown",
   "id": "3dba0a27",
   "metadata": {},
   "source": [
    "to"
   ]
  },
  {
   "cell_type": "code",
   "execution_count": null,
   "id": "494c1383",
   "metadata": {
    "vscode": {
     "languageId": "javascript"
    }
   },
   "outputs": [],
   "source": [
    "import {AggregatorV3Interface} from \"@chainlink/contracts/src/v0.8/shared/interfaces/AggregatorV3Interface.sol\";"
   ]
  },
  {
   "cell_type": "markdown",
   "id": "d0ebb259",
   "metadata": {},
   "source": [
    "So be sure to add the `shared` on your code.\n",
    "\n",
    "Take into consideration that this might change with time, so be sure to check Chainlink VR [documentation](https://docs.chain.link/vrf) to be sure you are using the correct import."
   ]
  }
 ],
 "metadata": {
  "language_info": {
   "name": "python"
  }
 },
 "nbformat": 4,
 "nbformat_minor": 5
}
