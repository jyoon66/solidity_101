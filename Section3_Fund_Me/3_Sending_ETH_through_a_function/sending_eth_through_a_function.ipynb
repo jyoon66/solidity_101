{
 "cells": [
  {
   "cell_type": "markdown",
   "id": "f7b1b696",
   "metadata": {},
   "source": [
    "#### Introduction\n",
    "\n",
    "In this part, we'll explore how to transfer Ethereum (ETH) to a smart contract by creating a `fund` function. This function will require a *minimum amount of ETH to ensure proper transaction handling.\n",
    "\n",
    "#### value and payable\n",
    "\n",
    "When a transaction is sent to the blockchain, a **value** field is always included in the *transaction data*. This field indicates the **amount** of the native cryptocurrency being transferred in that particular transaction. For the function `fund` to be able to receive Ethereum, it must be declared `payable`. In the Remix UI, this keyword will turn the function red, signifying that it can accept cryptocurrency.\n",
    "\n",
    "*Wallet addresses and smart contracts* are capable of **holding** and **managing** cryptocurrency funds. These entities can interact with the funds, perform transactions, and maintain balance records, just like a wallet."
   ]
  },
  {
   "cell_type": "code",
   "execution_count": null,
   "id": "b40955cc",
   "metadata": {
    "vscode": {
     "languageId": "javascript"
    }
   },
   "outputs": [],
   "source": [
    "function fund() public payable {\n",
    "    // allows users to send $\n",
    "    // have a minimum of $ sent\n",
    "    // How do we send ETH to this contract?\n",
    "    msg.value;\n",
    "\n",
    "    // function withdraw() public {}\n",
    "}"
   ]
  },
  {
   "cell_type": "markdown",
   "id": "e962a448",
   "metadata": {},
   "source": [
    "In Solidity, the **value** of a transaction is accessible through the [msg.value](https://docs.soliditylang.org/en/develop/units-and-global-variables.html#special-variables-and-functions) **property**. This property is part of the *global object* `msg`. It represents the amount of **Wei** transferred in the current transaction, where *Wei* is the smallest unit of Ether (ETH).\n",
    "\n",
    "#### Reverting transactions\n",
    "\n",
    "We can use the `require` keyword as a checker, to enforce our function to receive a minimum `value` of one (1) whole ether:"
   ]
  },
  {
   "cell_type": "code",
   "execution_count": null,
   "id": "202f2f5a",
   "metadata": {
    "vscode": {
     "languageId": "javascript"
    }
   },
   "outputs": [],
   "source": [
    "require(msg.value > 1e18);  // 1e18 = 1 ETH = 1 * 10 ** 18"
   ]
  },
  {
   "cell_type": "markdown",
   "id": "b466353e",
   "metadata": {},
   "source": [
    "This `require` condition ensures that the transaction meets the minimum ether requirements, allowing the function to execute only if this threshold is satisfied. If the specified requirement is not met, the transaction will **revert**.\n",
    "\n",
    "The require statement in Solidity can include a custom error message, which is displayed if the condition isn't met, clearly explaining the cause of the transaction failure:"
   ]
  },
  {
   "cell_type": "code",
   "execution_count": null,
   "id": "18649bd3",
   "metadata": {
    "vscode": {
     "languageId": "javascript"
    }
   },
   "outputs": [],
   "source": [
    "require(msg.value > 1 ether, \"Didn't send enough ETH\"); // if the condition is false, revert with the error message"
   ]
  },
  {
   "cell_type": "markdown",
   "id": "3d9160fd",
   "metadata": {},
   "source": [
    "An online tool like [Ethconverter](https://eth-converter.com/) can be useful for executing conversions between *Ether*, *Wei*, and *Gwei*. \n",
    "\n",
    "```\n",
    "IMPORTANT:\n",
    "```\n",
    "* 1 Ether = 1e9 Gwei = 1e18 Wei\n",
    "\n",
    "```\n",
    "NOTE:\n",
    "```\n",
    "* Gas costs are usually expressed in Gwei\n",
    "\n",
    "If a user attempts to send less Ether than the required amount, the transaction will **fail** and a *message "
   ]
  }
 ],
 "metadata": {
  "language_info": {
   "name": "python"
  }
 },
 "nbformat": 4,
 "nbformat_minor": 5
}
