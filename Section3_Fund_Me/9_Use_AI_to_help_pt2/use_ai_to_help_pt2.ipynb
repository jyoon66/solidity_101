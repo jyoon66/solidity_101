{
 "cells": [
  {
   "cell_type": "markdown",
   "id": "af758163",
   "metadata": {},
   "source": [
    "#### Introduction \n",
    "\n",
    "When you encounter a part that's not very clear, an AI or forum can help provide a comprehensive understanding of the topic at hand. In this lesson, we will learn how to craft effective questions and prompts.\n",
    "\n",
    "#### getVersion function\n",
    "\n",
    "For example, consider the mechanism behind the **Interface** construct:"
   ]
  },
  {
   "cell_type": "raw",
   "id": "1c2df894",
   "metadata": {
    "vscode": {
     "languageId": "raw"
    }
   },
   "source": [
    "How does this solidity function return the value `4` when I didn't define any logic in AggregatorV3Interface?\n",
    "\n",
    "```\n",
    " function getVersion() public view returns (uint256) {\n",
    "    return AggregatorV3Interface(0x5f4eC3Df9cbd43714FE2740f5E3616155c5b8419).version();\n",
    " }\n",
    "```"
   ]
  },
  {
   "cell_type": "markdown",
   "id": "4fc1eb7b",
   "metadata": {},
   "source": [
    "Here is the answer ChatGPT 3.5 provides:"
   ]
  },
  {
   "cell_type": "raw",
   "id": "b6bd4500",
   "metadata": {
    "vscode": {
     "languageId": "raw"
    }
   },
   "source": [
    "In the code you provided, the `getVersion()` function is calling the `version()` function of an instance of the `AggregatorV3Interface` contract. It appears that the contract address `0x694AA1769357215DE4FACO81bf1E309aDC325306` is being used to create an instance of the `AggregatorV3Interface`.\n",
    "\n",
    "The `AggregatorV3Interface` is an interface contract that defines a set of functions that must be implemented by another contract. It serves as a way to interact with the contract at the given address by providing a common interface.\n",
    "\n",
    "The `version()` function is called in your code is likely defined in the actual contract that implements the `AggregatorV3Interface`. This implementation contract is deployed at the specified address and is expected to have a `version()` function that returns a `uint256` value.\n",
    "\n",
    "So, the code you provided is creating an instance of the `AggregatorV3Interface` contract at the given address and then calling its `version()` function to retrieve a `uint256` value. If the implementation contract at that address has a `version()` function that returns `4`, then the `getVersion()` function will return `4` as well."
   ]
  },
  {
   "cell_type": "markdown",
   "id": "302e01aa",
   "metadata": {},
   "source": [
    "By *type casting* the address to the interface, we are indicating to the Solidity compiler that there is a `version` function available at that address.\n",
    "\n",
    "#### Asking more questions\n",
    "\n",
    "Since AIs excel at maintaining context, we can easily **follow up** on this answer."
   ]
  },
  {
   "cell_type": "raw",
   "id": "d404e4f2",
   "metadata": {
    "vscode": {
     "languageId": "raw"
    }
   },
   "source": [
    "What would happen if that contract address didn't have that function?"
   ]
  },
  {
   "cell_type": "markdown",
   "id": "1bedb565",
   "metadata": {
    "vscode": {
     "languageId": "raw"
    }
   },
   "source": [
    "As explained by the AI:"
   ]
  },
  {
   "cell_type": "raw",
   "id": "0de8d68e",
   "metadata": {
    "vscode": {
     "languageId": "raw"
    }
   },
   "source": [
    "If the implementation contract at the given address does not have a `version()` function or if it has a different function signature, calling `version()` on that contract will result in a compilation error or a runtime error."
   ]
  },
  {
   "cell_type": "markdown",
   "id": "c4b102d1",
   "metadata": {},
   "source": [
    "```\n",
    "WARNING:\n",
    "```\n",
    "* Always verify AI-provided information by consulting a discussion forum\n",
    "\n",
    "#### Conclusion \n",
    "\n",
    "By leveraging AI and discussion forums, you can gain a deeper understanding of complex topics and ensure your questions are throrougly addressed.\n",
    "\n",
    "#### Test yourself\n",
    "\n",
    "1. Delve deeper into the `getVersion` function by asking AI three more questions about it\n",
    "   * What is the best use of this contract?\n",
    "      * Verify the Oracle Contract Version\n",
    "      * Upgrade-Safety & Debugging\n",
    "      * Multi-Network Support\n",
    "      * Automated Testing/Logging\n",
    "   * How can I make this function even better?\n",
    "      * Use a Configurable Aggregrator Address:\n",
    "         ```\n",
    "         AggregatorV3Interface public priceFeed;\n",
    "\n",
    "         constructor(address _priceFeed) {\n",
    "            priceFeed = AggregatorV3Interface(_priceFeed);\n",
    "         }\n",
    "\n",
    "         function getVersion() public view returns (uint256) {\n",
    "            return priceFeed.version();\n",
    "         }\n",
    "         ```\n",
    "   * Can I get the price of other crypto?\n",
    "      * Find the Data Feed Address\n",
    "         ```\n",
    "         Go to the Chainlink Docs - Price Feeds and select:\n",
    "\n",
    "         The network you're on (Ethereum, Polygon, etc.)\n",
    "\n",
    "         The asset pair you want (e.g., BTC/USD, LINK/USD)\n",
    "\n",
    "         For example:\n",
    "\n",
    "         BTC/USD on Ethereum Mainnet: 0xf4030086522a5beea4988f8ca5b36dbc97bee88c\n",
    "\n",
    "         LINK/USD on Ethereum Mainnet: 0x2c1d072e956affc0d435cb7acfef2a4b2fbfba0a\n",
    "         ```\n"
   ]
  }
 ],
 "metadata": {
  "language_info": {
   "name": "python"
  }
 },
 "nbformat": 4,
 "nbformat_minor": 5
}
