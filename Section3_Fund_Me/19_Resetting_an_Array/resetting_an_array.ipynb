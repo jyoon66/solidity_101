{
 "cells": [
  {
   "cell_type": "markdown",
   "id": "cc118801",
   "metadata": {},
   "source": [
    "#### Introduction\n",
    "\n",
    "In this section, we'll focus on one of the final steps to complete the `withdraw` function: effectively resetting the `funders` array.\n",
    "\n",
    "#### Resetting an Array\n",
    "\n",
    "The simplest way to reset the `funders` array is similar to the method used with the mapping: iterate through all its elements and reset each one to 0. Alternatively, we can create a brand new `funders` array.\n",
    "\n",
    "```solidity\n",
    "funders = new address[]();\n",
    "```\n",
    "\n",
    "> 🗒️ NOTE  \n",
    "> You might recall using the `new` keyword when deploying a contract. In this context, however, it resets the `funders` array to zero-sized, blank address array.\n",
    "\n",
    "#### Conclusion\n",
    "\n",
    "In this lesson, we learned how to reset the `funders` array by either iterating through its elements or creating a new zero-sized array. This step is crucial for completing the `withdraw` function and ensuring the contract's data is properly managed.\n",
    "\n",
    "#### Test yourself\n",
    "\n",
    "1. Why is it important to reset the `funders` array when implementing the `withdraw` function?\n",
    "   * If you don't reset the `funders` array after a withdrawal, the old list of funders remains stored, meaning: \n",
    "      * Anyone reading the funders list after a withdrawal sees outdated into. \n",
    "      * New contributions may get appended to old ones, causing confusion and misrepresentation.\n",
    "\n",
    "2. Create a method `expensiveReset` that resets an array using the iteration method.\n",
    "\n",
    "```solidity\n",
    "function expensiveReset() public {\n",
    "\n",
    "    for (uint256 i = 0; i < funders.length; i++) {\n",
    "        funders = new address[]();\n",
    "    }\n",
    "}\n",
    "```"
   ]
  }
 ],
 "metadata": {
  "language_info": {
   "name": "python"
  }
 },
 "nbformat": 4,
 "nbformat_minor": 5
}
