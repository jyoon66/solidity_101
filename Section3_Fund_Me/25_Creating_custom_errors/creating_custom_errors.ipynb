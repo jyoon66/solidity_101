{
 "cells": [
  {
   "cell_type": "markdown",
   "id": "acaea1d8",
   "metadata": {},
   "source": [
    "#### Introduction\n",
    "\n",
    "In the previous lesson, we learned how to make our contract more gas efficient. In this lesson, we will further enhance their efficiency.\n",
    "\n",
    "#### Require\n",
    "\n",
    "One way to impvooe gas efficiency is by optimizing our `require` statement. Currently, the `require` statement forces us to store the string 'sender is not an owner'. Each character in this string is stored individually, making the logic to manage it complex and expensive.\n",
    "\n",
    "#### Custom Errors\n",
    "\n",
    "Introduced in **Solidity 0.8.4**, custom errors can be used in `revert` statements. These errors should be declared at the top of the code and used in `if` statements. The cheaper error code is then called in place of the previous error message string, reducing gas costs.\n",
    "\n",
    "We can start by creating a custom error:\n",
    "\n",
    "```solidity\n",
    "error NotOwner();\n",
    "```\n",
    "\n",
    "Then, we can replace the `require` function with an `if` statement, using the `revert` funciton with the newly created error:\n",
    "\n",
    "```solidity\n",
    "if (msg.sender != i_owner) {\n",
    "    revert NotOwner();\n",
    "}\n",
    "```\n",
    "\n"
   ]
  }
 ],
 "metadata": {
  "language_info": {
   "name": "python"
  }
 },
 "nbformat": 4,
 "nbformat_minor": 5
}
