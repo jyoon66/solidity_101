{
 "cells": [
  {
   "cell_type": "markdown",
   "id": "a0836168",
   "metadata": {},
   "source": [
    "#### Introduction\n",
    "\n",
    "In this lesson, we'll walk through the steps to deploy the `FundMe` contract to the ZKsync testnet.\n",
    "\n",
    "#### Adjustments for ZKsync\n",
    "\n",
    "First, we'll need the specific the correct **price feed address** for the Zksync Sepolia chain, which you can find in the [Chainlink documentation](https://docs.chain.link/data-feeds/price-feeds/addresses?network=zksync&page=1). Each chain has its own unique addresses, and the ETH/USD address for the ZKsync Sepolia testnet will differ from the one on Sepolia.\n",
    "\n",
    "Then, copy the ZKsync Seplia testnet ETH/USD address and replace the existing address in the `FundMe::getVersion` and `PriceConverter::getPrice` functions:\n",
    "\n",
    "```solidity\n",
    "AggregatorV3Interface priceFeed = AggregatorV3Interface(0xfEefF7c3fB57d18C5C6Cdd71e45D2D0b4F9377bF); // Add ETH/USD ZKsync Sepolia address here\n",
    "```\n",
    "\n",
    "Since the ZKsync plugin may not handle libraries well yet, you can copy the library code directly into your contract instead of importing it.\n",
    "\n",
    "It's recommended using the correct version of the Solidity compiler by updating it to version `0.8.24` for ZKsync compatibility.\n",
    "\n",
    "#### Deploying the Contract\n",
    "\n",
    "In the Environment tab, you can connect your MetaMask wallet and then **deploy and verify** the `FundMe` contract. After deployment, you can interact with the contract by checking functions like `FundMe::MINIMUM_USD`, `FundMe::getVersion` to ensure they return the expected values.\n",
    "\n",
    "#### Conclusion\n",
    "\n",
    "Deploying the `FundMe` contract to the ZKsync testnet involves a few key steps. First, adjust the price feed addresses and handle the library code correctly and make sure you're using the correct version of the Solidity compiler. Then you are ready to connect the MetaMask wallet to Remix ZKsync module and deploye the contract. Finally, you can verify that everything is working as expected by calling the contract functions in the [Zksync block explorer](https://sepolia.explorer.zksync.io/)."
   ]
  }
 ],
 "metadata": {
  "language_info": {
   "name": "python"
  }
 },
 "nbformat": 4,
 "nbformat_minor": 5
}
