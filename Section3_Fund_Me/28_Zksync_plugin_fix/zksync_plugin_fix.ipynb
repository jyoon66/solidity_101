{
 "cells": [
  {
   "cell_type": "markdown",
   "id": "dfb8bff9",
   "metadata": {},
   "source": [
    "#### ZKsync Remix plugin minor bug \n",
    "\n",
    "As we saw in the *Simple Storage* section, there is a small bug in the Remix ZKsync module. after a successful compilation, the deploy tab will still display the message *`no smart contracts ready for deployment`*.\n",
    "\n",
    "This issue arises due to a small bug in the plugin, which requires your smart contracts to be inside a `contracts` **folder**. To resolve this, you can create a new folder named 'contracts' and move your smart contract into it. You can then proceed to compile the contract again, and you should be able to deploy it without any issues."
   ]
  }
 ],
 "metadata": {
  "language_info": {
   "name": "python"
  }
 },
 "nbformat": 4,
 "nbformat_minor": 5
}
