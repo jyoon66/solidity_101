{
 "cells": [
  {
   "cell_type": "markdown",
   "id": "47f65dc3",
   "metadata": {},
   "source": [
    "#### Introduction\n",
    "\n",
    "In this recap, we'll review how to interact with an external contract and utilize its functions, understand Chainlink Price Feeds, perform Solidity math, and explore global properties.\n",
    "\n",
    "#### Interacting with an External Contract\n",
    "\n",
    "To interact with any external contract, you need the contract's *address* and *ABI* (Application Binary Interface). Think of the `address` as a *house number* that identifies the specific contract on the blockchain, while the `ABI` serves as a *manual* that explains how to interact with the contract.\n",
    "\n",
    "To obtain the contract ABi, you can compile a Solidity **interface** that the target contract implements. Then, create a new instance of the interface pointing to the specific address of the deployed contract.\n",
    "\n",
    "#### Chainlink Price Feeds\n",
    "\n",
    "**Chainlink Price Feeds** provide a reliable way to access real-world data, such as pricing data, and inject it into smart contracts. This is particularly useful for executing mathematical operations in Solidity and the Ethereum Virtual Machine (EVM), where floating-point numbers are not used.\n",
    "\n",
    "#### Solidity Global Properties\n",
    "\n",
    "The Solidity documentation provides several global properties that are essential for interacting with the Ethereum blockchain. Here are two key properties: \n",
    "\n",
    "* `msg.sender`: this property refers to the address fo the account that **initiated the current function call**\n",
    "* `msg.value`: this property represent the **amount of Wei** sent with a function call\n",
    "\n",
    "```solidity\n",
    "function updateValue() public payable {\n",
    "    require(msg.value >= 1 ether, \"Not enough Ether provided.\");\n",
    "}\n",
    "```\n",
    "\n",
    "By understanding these concepts, you can effectively interact with external contracts, leverage Chainlink Price Feeds for real-world dat, and utilize Solidity's global properties for more robust smart contract development.\n",
    "\n",
    "#### Test yourself\n",
    "\n",
    "1. Attempt to answer all the theoretical questions from lessons 1 through 12, and then go back again to complete all the coding tasks."
   ]
  }
 ],
 "metadata": {
  "language_info": {
   "name": "python"
  }
 },
 "nbformat": 4,
 "nbformat_minor": 5
}
