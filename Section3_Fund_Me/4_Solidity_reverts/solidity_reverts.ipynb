{
 "cells": [
  {
   "cell_type": "markdown",
   "id": "c68e4d6f",
   "metadata": {},
   "source": [
    "#### Introduction\n",
    "\n",
    "In this lesson, we will delve into how do *transaction reverts* work, what is *gas* where is used.\n",
    "\n",
    "#### Revert\n",
    "\n",
    "Let's start by adding some logic to the `fund` function:\n"
   ]
  },
  {
   "cell_type": "code",
   "execution_count": null,
   "id": "ac13198a",
   "metadata": {
    "vscode": {
     "languageId": "javascript"
    }
   },
   "outputs": [],
   "source": [
    "uint256 public myValue = 1;\n",
    "function fund() public {\n",
    "    myValue = myValue + 2;\n",
    "}"
   ]
  },
  {
   "cell_type": "markdown",
   "id": "22553adc",
   "metadata": {},
   "source": [
    "A *revert* action **undoes** all prior operations and returns the remaining gas to the transaction's sender. In this `fund` function, `myValue` increases by two (2) units with each successful execution. However, if a revert statement is encountered right after, all actions performed from the start of the function are undone. `myValue` will then reset to its initial state value, or one."
   ]
  },
  {
   "cell_type": "code",
   "execution_count": null,
   "id": "d6b6365b",
   "metadata": {
    "vscode": {
     "languageId": "javascript"
    }
   },
   "outputs": [],
   "source": [
    "uint256 public myValue = 1;\n",
    "function fund() public {\n",
    "    myValue = myValue + 2;\n",
    "    require(msg.value > 1e18, \"didn't send enough ETH\");\n",
    "    // A function revert will undo any actions that have been done.\n",
    "    // It will send the remaining gas back\n",
    "}"
   ]
  },
  {
   "cell_type": "markdown",
   "id": "114c1603",
   "metadata": {},
   "source": [
    "#### Gas Usage\n",
    "\n",
    "```\n",
    "CAUTION\n",
    "```\n",
    "* The gas used in the transaction will not be refunded if the transaction fails due to a revert statement. The gas has already been **consumed** because the code was executed by the computers, even though the transaction was ultimately reverted.\n",
    "\n",
    "Users can specify how much gas they're willing to allocate for a transaction. In the case where the `fund` function will contain a lot of lines of code after the `require` and we did indeed set a limit, the gas which was previously allocated but not used will not be charged to the user.\n",
    "\n",
    "```\n",
    "NOTE:\n",
    "```\n",
    "* If a transaction reverts, is defined as failed\n",
    "\n",
    "#### Transaction Fields\n",
    "\n",
    "During a **value** transfer, a transaction will contain the following fields:\n",
    "\n",
    "* **Nonce**: transaction counter for the account\n",
    "* **Gas price (wei)**: maximum price that the sender is willing to pay *per unit of gas*\n",
    "* **Gas Limit**: maximum amount of gas the sender is willing to use for the transaction. A common value could be around 21000.\n",
    "* **To**: *recipient's address*\n",
    "* **Value (Wei)**: amount of cryptocurrency to be transferred to the recipient\n",
    "* **Data**: 🫙 *empty*\n",
    "* **v,r,s**: components of the transaction signature. They prove that the transaction is authorized by the sender.\n",
    "\n",
    "During a ***contract interaction transaction***, it will instead be with:\n",
    "\n",
    "* **Nonce**: transaction counter for the account\n",
    "* **Gas price (wei)**: maximum price that the sender is willing to pay *per unit of gas*\n",
    "* **Gas Limit**: maximum amount of gas the sender is willing to use for the transaction. A common value could be around 21000.\n",
    "* **To**: *address the transaction is sent to (e.g. smart contract)*\n",
    "* **Value (Wei)**: amount of cryptocurrency to be transferred to the recipient\n",
    "* **Data**: *the content to send to the **To** address*, e.g. a function and its parameters.\n",
    "* **v,r,s**: components of the transaction signature. They prove that the transaction is authorized by the sender.\n",
    "\n",
    "#### Conclusion\n",
    "\n",
    "**Reverts** and **gas usage** help maintain the integrity of the blockchain state. *Reverts* will undo transactions when failures occur, while *gas* enables transactions execution and runs the EVM. When a transaction fails, the gas consumes is not recoverable. To manage this, Ethereum allows users to set the maximum amount of gas they're willing to pay for each transaction.\n",
    "\n",
    "#### Test yourself\n",
    "\n",
    "1. Describe the two types of transactions listed in this lesson.\n",
    "   * **Value:** \n",
    "      * No function or smart contract is called\n",
    "      * Only ETH is moved from sender to recipient\n",
    "      * Doesn't need ABI or contract logic\n",
    "   * **Contract Interaction**\n",
    "      * May include ETH (optional), but always includes **data** (function selector + arguments)\n",
    "      * Trigger contract logic: store data, update state, emit events, etc.\n",
    "      * Require ABI and contract deployment\n",
    "\n",
    "2. Why are reverts used?\n",
    "   * Reverts undo transactions when failures occur and to avoid unnecessary gas waste\n",
    "\n",
    "3. Bob sets his gas price to 20 Gwei and his gas limit to 50,000 units. The transaction consumes 30,000 units of gas before a revert occurs. How much ETH will be effectively charged?\n",
    "   * Gas used x Gas price =\n",
    "   * 30,000 * 20 Gwei = 30,000 * (20 * 1e9 Wei)\n",
    "   * = 6e14 Wei\n",
    "   * = 0.0000006 ETH"
   ]
  }
 ],
 "metadata": {
  "language_info": {
   "name": "python"
  }
 },
 "nbformat": 4,
 "nbformat_minor": 5
}
