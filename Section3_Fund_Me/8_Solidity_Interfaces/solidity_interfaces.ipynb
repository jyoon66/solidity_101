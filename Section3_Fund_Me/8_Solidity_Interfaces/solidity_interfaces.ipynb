{
 "cells": [
  {
   "cell_type": "markdown",
   "id": "27189af8",
   "metadata": {},
   "source": [
    "#### Introduction\n",
    "\n",
    "In this part, we'll learn how to **convert** Ethereum (ETH) into Dollars (USD) and how to use **Interfaces**.\n",
    "\n",
    "#### Converting Ethereum into USD\n",
    "\n",
    "We begin by trying to convert the `msg.value`, which is now specified in ETH, into USD. This process require fetching the **current USD market price** of Ethereum and using it to convert the `msg.value` amount into USD."
   ]
  },
  {
   "cell_type": "code",
   "execution_count": null,
   "id": "f4d293ad",
   "metadata": {
    "vscode": {
     "languageId": "javascript"
    }
   },
   "outputs": [],
   "source": [
    "// Function to get the price of Ethereum in USD\n",
    "function getPrice() public {}\n",
    "\n",
    "// Function to covert a value based on the price\n",
    "function getConversionRate() public {}"
   ]
  },
  {
   "cell_type": "markdown",
   "id": "0fae3c56",
   "metadata": {},
   "source": [
    "#### Chainlink Data Feed\n",
    "\n",
    "Our primary source for Etereum prices is a **Chainlink Data Feed**. [Chainlink Data Feed documetnation](https://docs.chain.link/data-feeds/using-data-feeds) providese an example of how to interact with a Data Feed contract:\n",
    "\n",
    "1. `AggregatorV3Interface`: a contract that takes a *Data Feed address* as input. This contract maintains the ETH/USD price updated.\n",
    "2. `latestRoundData`: a function that returns an `answer`, representing the latest Ethereum price.\n",
    "\n",
    "To utilize the **Price Feed Contract**, we need its address and its ABI. The address is available in the Chainlink documentation under the [Price Feed Cotnract Addresses](https://docs.chain.link/data-feeds/price-feeds/addresses). For our purposes, we'll use ETH/USD price feed.\n",
    "\n",
    "#### Interface\n",
    "\n",
    "To obtain the ABI, you can import, compile, and deploy the PriceFeed contract itself. In the previous section, we imported the `SimpleStorage` contract into the `StorageFactory` contract, deployed it, and only then we were able to use its functions.\n",
    "\n",
    "An alternative method invovles the use of an **Interface**, which defines methods signature without their implementation logic. If compiled, the Price Feed Interface, it would return the ABI of the Price Feed contract itself, which was previously deployed on the blockchain. We don't need to know anything about the function implementations, only knowing the `AggregatorV3Interface` methods will suffice. The Price Feed Interface, called `Aggregator V3 Interface`, can be found in [Chainlink's GitHub repository](https://github.com/smartcontractkit/chainlink/blob/develop/contracts/src/v0.8/shared/interfaces/AggregatorV3Interface.sol).\n",
    "\n",
    "```\n",
    "NOTE:\n",
    "```\n",
    "* Interfaces allow different contracts to interact seamlessly by ensuring they share a common set of functionalities.\n",
    "\n",
    "We can test the interface usage by calling the `version()` function:"
   ]
  },
  {
   "cell_type": "code",
   "execution_count": null,
   "id": "a30a5b14",
   "metadata": {
    "vscode": {
     "languageId": "javascript"
    }
   },
   "outputs": [],
   "source": [
    "function getVersion() public view returns (uint256) {\n",
    "    return AggregatorV3Interface(0x5f4eC3Df9cbd43714FE2740f5E3616155c5b8419).version();\n",
    "}"
   ]
  },
  {
   "cell_type": "markdown",
   "id": "4d6fd29f",
   "metadata": {},
   "source": [
    "```\n",
    "NOTE:\n",
    "```\n",
    "* It's best wo work on testnets only after your deployment is complete, as it can be time and resource consuming.\n",
    "\n",
    "#### Conclusion\n",
    "\n",
    "Using interfaces is a common and effective way to interact with external contracts. First, obtain the interface of the external contract, compile it to get the ABI, and then use the deployed contract's address. This allows you to call any function available at that address seamlessly.\n",
    "\n",
    "#### Test yourself\n",
    "\n",
    "1. Explain the role of interfaces in Solidity and why are they advantageous.\n",
    "   * Interfaces allow you to interact with external contracts\n",
    "   * They are advantageous because they allow you to call any function availabe on that deployed contract's address\n",
    "2. What are the steps required to convert a variable containing a value in ETH to its equivalent in USD?\n",
    "   * You use Chainlink Data Feed:\n",
    "      * 1) Use `AggregatorV3Interface` contract\n",
    "      * 2) Call the `latestRoundData` function to get the latest ETH price\n",
    "3. Implement another function on the `FundMe` contract that implements the `decimals()` methods of the Data Feed address.\n",
    "\n",
    "```\n",
    "function getDecimal() public view returns (uint256) {\n",
    "    return AggregatorV3Interface(0x5f4eC3Df9cbd43714FE2740f5E3616155c5b8419).decimals();\n",
    "}\n",
    "```"
   ]
  }
 ],
 "metadata": {
  "language_info": {
   "name": "python"
  }
 },
 "nbformat": 4,
 "nbformat_minor": 5
}
