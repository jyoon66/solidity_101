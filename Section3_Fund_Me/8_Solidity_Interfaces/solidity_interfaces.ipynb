{
 "cells": [
  {
   "cell_type": "markdown",
   "id": "27189af8",
   "metadata": {},
   "source": [
    "#### Introduction\n",
    "\n",
    "In this part, we'll learn how to **convert** Ethereum (ETH) into Dollars (USD) and how to use **Interfaces**.\n",
    "\n",
    "#### Converting Ethereum into USD\n",
    "\n",
    "We begin by trying to convert the `msg.value`, which is now specified in ETH, into USD. This process require fetching the **current USD market price** of Ethereum and using it to convert the `msg.value` amount into USD."
   ]
  }
 ],
 "metadata": {
  "language_info": {
   "name": "python"
  }
 },
 "nbformat": 4,
 "nbformat_minor": 5
}
