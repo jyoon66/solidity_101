{
 "cells": [
  {
   "cell_type": "markdown",
   "id": "62d42977",
   "metadata": {},
   "source": [
    "#### Introduction\n",
    "\n",
    "In this second part of the `FundMe` section, we have covered the majority of Solidity basics, including special functions, custom eroors, immutable variables, modifiers, constructors, arrays, for loops, libraries, and much more.\n",
    "\n",
    "#### Special Functions\n",
    "\n",
    "We have encountered the special functions `receive`, `fallback`, and `constructor`. These functions do not require the `function` keyword before their name. The `receive` function is triggered when Ether is sent to a contract and the **data** field is empty. The `fallback` function is triggered when data is sent with a transaction, but no matching function is found.\n",
    "\n",
    "#### Saving Gas\n",
    "\n",
    "To save gas, Solidity provides keywords like `constant` and `immutable` for variables that can only be set once:\n",
    "\n",
    "```solidity\n",
    "uint constant minimumUSD = 50 * 1e18;\n",
    "```\n",
    "\n",
    "In this example, `minimumUSD` is a constant and cannot be changed, saving gas. Unlike `constant`, which is set at compile time, `immutable` allows a variable to be assigned once during deployment. Attempts to change either `constant` or `immutable` varialbes will result in a compilation error.\n",
    "\n",
    "#### Sending Ether\n",
    "\n",
    "Remix provides an easy method to send Ether to a contract. After deploying the contract, you can press the `transact` button, set the transaction's value, and omit the call data. If no call data is included, the `receive` function, if exists, will be triggered. Otherwise will be executed in the `fallback` function.\n",
    "\n",
    "#### Conclusion\n",
    "\n",
    "In the next section, we will move from Remix to a code editor to experiement with more advanced Solidity features. We will explore enums, events, try-catch, function selectors, abi-encode, hashing, Yul, and Assembly.\n",
    "\n",
    "#### Test yourself\n",
    "\n",
    "1. Attempt to answer all the theoretical questions from lessons 13 through 25, and then go back agai to complete all the coding tasks."
   ]
  }
 ],
 "metadata": {
  "language_info": {
   "name": "python"
  }
 },
 "nbformat": 4,
 "nbformat_minor": 5
}
