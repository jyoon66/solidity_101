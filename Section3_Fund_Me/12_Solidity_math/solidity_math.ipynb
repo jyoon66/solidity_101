{
 "cells": [
  {
   "cell_type": "markdown",
   "id": "ec282807",
   "metadata": {},
   "source": [
    "#### Introduction\n",
    "\n",
    "In this lesson, we will guide you through converting the value of ETH to USD. We'll use the previously defined `getPrice` function within the new `getConversionRate` function.\n",
    "\n",
    "#### The `getPrice` and `getConversionRate` Functions\n",
    "\n",
    "The `getPrice` function returns the current value of Ethereum in USD as a `uint256`. The `getConversionRate` function converts a specified amount of ETH to its USD equivalent.\n",
    "\n",
    "#### Decimal Places\n",
    "\n",
    "In Solidity, only integer values are used, as the language does not support floating-point numbers."
   ]
  },
  {
   "cell_type": "code",
   "execution_count": null,
   "id": "98de81d1",
   "metadata": {
    "vscode": {
     "languageId": "javascript"
    }
   },
   "outputs": [],
   "source": [
    "function getConversionRate(uint256 ethAmount) internal view returns (uint256) {\n",
    "    uint256 ethPrice = getPrice();\n",
    "    uint256 ethAmountInUsd = (ethPrice * ethAmount) / 1e18;\n",
    "    return ethAmountInUsd;\n",
    "}"
   ]
  },
  {
   "cell_type": "markdown",
   "id": "ee783a42",
   "metadata": {},
   "source": [
    "> 🗒️ **NOTE**  \n",
    "> The line `uint256 ethAmountInUsd = (ethPrice * ethAmount)` results in a value with a precision of 1e18 * 1e18 = 1e36. To bring the precision of `ethAmountInUsd` back to 1e18, we need to divide the result by 1e18.\n",
    "\n",
    "\n",
    "\n"
   ]
  }
 ],
 "metadata": {
  "language_info": {
   "name": "python"
  }
 },
 "nbformat": 4,
 "nbformat_minor": 5
}
