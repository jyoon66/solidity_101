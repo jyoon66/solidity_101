{
 "cells": [
  {
   "cell_type": "markdown",
   "id": "bd48a043",
   "metadata": {},
   "source": [
    "#### Introduction\n",
    "\n",
    "The `AggregatorV3Interface` provides a streamlined ABI for interacting with the Data Feed contract. In this lesson, we'll explore how to retrieve pricing information from it.\n",
    "\n",
    "#### Creating a New Contract Instance\n",
    "\n",
    "The `AggregatorV3Interface` includes the `latestRoundData` function, which retrieves the latest cryptocurrency price from the specified contract. We'll start by declaring a new variable, `priceFeed`, of type `AggregatorV3Interface`. This interface requires the address of the Data Feed contract deployed on the Sepolia Network."
   ]
  },
  {
   "cell_type": "code",
   "execution_count": null,
   "id": "ed306892",
   "metadata": {
    "vscode": {
     "languageId": "javascript"
    }
   },
   "outputs": [],
   "source": [
    "AggregatorV3Interface priceFeed = AggregatorV3Interface(0x1b44F3514812d835EB1BDB0acB33d3fA3351Ee43);"
   ]
  },
  {
   "cell_type": "markdown",
   "id": "14342799",
   "metadata": {},
   "source": [
    "#### The `latestRoundData` Function\n",
    "\n",
    "We can call the `latestRoundData()` function on this interface to obtain several values, including the latest price."
   ]
  },
  {
   "cell_type": "code",
   "execution_count": null,
   "id": "cf0ceec9",
   "metadata": {
    "vscode": {
     "languageId": "javascript"
    }
   },
   "outputs": [],
   "source": [
    "function latestRoundData() external view returns (uint80 roundId, int256 answer, uint256 startedAt, uint256 updatedAt, uint80 answeredInRound);"
   ]
  },
  {
   "cell_type": "markdown",
   "id": "3af9644d",
   "metadata": {},
   "source": [
    "For now, we'll focus on the `answer` value and ignore the other returned values by using commas as placeholders for the unneeded variables."
   ]
  },
  {
   "cell_type": "code",
   "execution_count": null,
   "id": "2672ae4b",
   "metadata": {
    "vscode": {
     "languageId": "javascript"
    }
   },
   "outputs": [],
   "source": [
    "function getLatestPrice() public view returns (int) {\n",
    "    (,int price,,,) = priceFeed.latestRoundData();\n",
    "    return price;\n",
    "}"
   ]
  },
  {
   "cell_type": "markdown",
   "id": "19bb7e72",
   "metadata": {},
   "source": [
    "Our `getLatestPrice()` function now retrieves the latest ETH price in USD from the `latestRoundData()` function of the Data Feed contract. The returned price is an `int256` with a precision of 1e8, as indicated by the `decimals` function.\n",
    "\n",
    "#### Decimals\n",
    "\n",
    "* `msg.value`is a `uint256` value 18 decimal places.\n",
    "* `answer` is an `int256` value with 8 decimal places (USD-based pairs use 8 decimal places, while ETH-based pairs use 18 decimal places).\n",
    "\n",
    "This means the `price` returned from our `latestRoundData` function isn't directly compatible with `msg.value`. To match the decimal places, we multiply `price` by 1e10:"
   ]
  },
  {
   "cell_type": "code",
   "execution_count": null,
   "id": "cc676230",
   "metadata": {
    "vscode": {
     "languageId": "javascript"
    }
   },
   "outputs": [],
   "source": [
    "return price * 1e10;"
   ]
  },
  {
   "cell_type": "markdown",
   "id": "b5b08a31",
   "metadata": {},
   "source": [
    "#### Typecasting\n",
    "\n",
    "Typecasting, or type conversion, involves converting a value from one data type to another. In Solidity, not all data types can be converted due to differences in their underlying representations and the potential for data loss. However, certain conversions, such as from `int` to `uint`, are allowed."
   ]
  },
  {
   "cell_type": "code",
   "execution_count": null,
   "id": "5928e586",
   "metadata": {
    "vscode": {
     "languageId": "javascript"
    }
   },
   "outputs": [],
   "source": [
    "return uint(price) * 1e10;"
   ]
  },
  {
   "cell_type": "markdown",
   "id": "6ed28669",
   "metadata": {},
   "source": [
    "We can finalize our `view` function as follows:"
   ]
  },
  {
   "cell_type": "code",
   "execution_count": null,
   "id": "f8d24c5d",
   "metadata": {
    "vscode": {
     "languageId": "javascript"
    }
   },
   "outputs": [],
   "source": [
    "function getLatestPrice() public view returns (uint256) {\n",
    "    (,int answer,,,) = priceFeed.latestRoundData();\n",
    "    return uint(answer) * 1e10;\n",
    "}"
   ]
  },
  {
   "cell_type": "markdown",
   "id": "9ab8c19a",
   "metadata": {},
   "source": [
    "#### Conclusion\n",
    "\n",
    "This complete `getLatestPrice` function retrieves the latest price, adjusts the decimal places, and converts the value to an unsigned integer, making it compatible for its use inside other functions.\n",
    "\n",
    "#### Test yourself\n",
    "\n",
    "1. Why we need to mutliply the latest ETH price by 1e10?\n",
    "   * `msg.value` is a `uint256` value 18 decimal places.\n",
    "   * `answer`/`price` is an `int256` value with 8 decimal places\n",
    "   * Thus, to match `msg.value`, we need to multiply `price` by 1e10\n",
    "\n",
    "2. What's the result of typecasting `uint256(-2)`?\n",
    "   * uint256(-2) == 2**256 - 2\n",
    "\n",
    "3. Create a contract with a `getLatestBTCPriceInETH()` function that retrieves the latest BTC price in ETH.\n",
    "\n",
    "```\n",
    "contract BTCinETH {\n",
    "\n",
    "   // Contract address for BTC/ETH price\n",
    "   AggregatorV3Interface priceFeed = AggregatorV3Interface(00xdeb288F737066589598e9214E782fa5A8eD689e8);\n",
    "\n",
    "   function getLatestBTCPriceInETH() public view returns (uint256) {\n",
    "      (,int answer,,,) = priceFeed.latestRoundData();\n",
    "      return uint(answer) * 1e10;\n",
    "   }\n",
    "}\n",
    "```"
   ]
  },
  {
   "cell_type": "markdown",
   "id": "bca7f758",
   "metadata": {},
   "source": [
    "#### Updates (8/23/24)\n",
    "\n",
    "#### Changes in Chainlink Data Feeds\n",
    "\n",
    "Recently Chainlink Data Feeds changed the code to get the data feeds to:"
   ]
  },
  {
   "cell_type": "code",
   "execution_count": null,
   "id": "41f9b4fb",
   "metadata": {
    "vscode": {
     "languageId": "javascript"
    }
   },
   "outputs": [],
   "source": [
    " function getChainlinkDataFeedLatestAnswer() public view returns (int) {\n",
    "        // prettier-ignore\n",
    "        (\n",
    "            /* uint80 roundID */,\n",
    "            int answer,\n",
    "            /*uint startedAt*/,\n",
    "            /*uint timeStamp*/,\n",
    "            /*uint80 answeredInRound*/\n",
    "        ) = dataFeed.latestRoundData();\n",
    "        return answer;\n",
    "    }"
   ]
  },
  {
   "cell_type": "markdown",
   "id": "0e10d297",
   "metadata": {},
   "source": [
    "As you may notice this is quite different from what is shown on the video, so please be sure to check the Chainlink Docs to be sure you are using the latest version: https://docs.chain.link/data-feeds/using-data-feeds"
   ]
  }
 ],
 "metadata": {
  "language_info": {
   "name": "python"
  }
 },
 "nbformat": 4,
 "nbformat_minor": 5
}
