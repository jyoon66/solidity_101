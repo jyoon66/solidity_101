{
 "cells": [
  {
   "cell_type": "markdown",
   "id": "7435574f",
   "metadata": {},
   "source": [
    "1. What is the correct relationship between Wei, Gwei, and Ether in Ethereum's unit system?\n",
    "   * 1 Ether = 1,000,000,000 Gwei = 1,000,000,000,000,000,000 Wei (10^18 Wei)\n",
    "\n",
    "2. What is the purpose of the revert action?\n",
    "   * A revert action undoes all prior operations and returns the remaining gas to the transaction's sender.\n",
    "\n",
    "3. Which keyword is used to allow a function to receive native blockchain tokens such as ETH?\n",
    "   * payable"
   ]
  }
 ],
 "metadata": {
  "language_info": {
   "name": "python"
  }
 },
 "nbformat": 4,
 "nbformat_minor": 5
}
