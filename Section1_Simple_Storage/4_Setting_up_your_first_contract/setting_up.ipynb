{
 "cells": [
  {
   "cell_type": "markdown",
   "id": "e227525c",
   "metadata": {},
   "source": [
    "#### Introduction\n",
    "\n",
    "In this lesson, you'll discover the basics of Remix and how to create and compile your first contract."
   ]
  },
  {
   "cell_type": "markdown",
   "id": "ba36e019",
   "metadata": {},
   "source": [
    "#### Remix IDE\n",
    "\n",
    "Open this link [to get started](https://remix.ethereum.org/)\n",
    "\n",
    "This is an IDE (Integrated Development Environment), a powerful tool used to build and develop smart contracts in Solidity. It helps to easily visualize and interact with our smart contracts. It contains a file explorer that hosts all the files, a Solidity compiler and a tab where you can deploy your contracts.\n",
    "\n",
    "1. Remove all the existing files and folders by right-clicking on them (optional).\n",
    "2. Create a new file, e.g., `SimpleStorage.sol`. The `.sol` extensions tells the compiler that this is a Solidity file."
   ]
  },
  {
   "cell_type": "markdown",
   "id": "e498727b",
   "metadata": {},
   "source": [
    "#### Compiler directive\n",
    "\n",
    "The `pragma directive specifies the *version* of the Solidity compiler that you want to use to build your source file. When the compiler encounters this line, it will check its version against the one you specified here. If the compiler version is different, rEmix will automatically adjust accordingly to your specifications. \n",
    "\n",
    "You can specify the compiler version(s) in the following ways:\n",
    "\n",
    "1) Use exactly **one** version\n",
    "```\n",
    "pragma solidity 0.8.19; // use only version 0.8.19\n",
    "```\n",
    "\n",
    "2) Use versions that fall **within** a lower and upper range\n",
    "```\n",
    "// use versions between 0.8.19 and 0.9.0 (excluded)\n",
    "pragma solidity ^0.8.19;\n",
    "pragma solidity >=0.8.19 <0.9.0;\n",
    "```\n",
    "\n",
    "```\n",
    "NOTE:\n",
    "Remember to write comments in your code for you to refer to later on.\n",
    "```"
   ]
  },
  {
   "cell_type": "markdown",
   "id": "6620f8e4",
   "metadata": {},
   "source": [
    "#### SPDX License Identifier\n",
    "\n",
    "It's a good practice (even not mandatory) to start your smart contract with an SPDX License Identifier. It helps in making licensing and sharing code easier from a legal perspective.\n",
    "\n",
    "```\n",
    "// SPDX-License-Identifier: MIT\n",
    "pragma solidity ^0.8.19;\n",
    "```\n",
    "\n",
    "The MIT License is recognized as one of the most permissive, granting anyone the freedom to use the following code and essentially use it as they see fit."
   ]
  },
  {
   "cell_type": "markdown",
   "id": "6704db29",
   "metadata": {},
   "source": [
    "#### Writing the Smart Contract\n",
    "\n",
    "You can start writing your contract using the keyword `contract` followed by a name, e.g. `SimpleStorage`. All the code inside the curly brackets will be considered part of this contract.\n",
    "\n",
    "If you are familiar with Object Oriented Programming languages, you can think of a *contract* as a concept similar to a *class*.\n",
    "\n",
    "```\n",
    "//SPDX-License-Identifier: MIT\n",
    "pragma solidity ^0.8.19;\n",
    "\n",
    "contract SimpleStorage {\n",
    "    // this is where we'll place the content of the contract\n",
    "}"
   ]
  },
  {
   "cell_type": "markdown",
   "id": "044d5d7b",
   "metadata": {},
   "source": [
    "#### Compiling\n",
    "\n",
    "1. In Remix IDE, select the Solidity Compiler.\n",
    "2. Choose the version of the compiler that matches the version specified in your Solidity file.\n",
    "3. Hit the `Compile` button.\n",
    "\n",
    "Compiling your code means taking **human-readable code** and transforming it into **computer-readable code** or **bytecode**.\n",
    "\n",
    "If you see a green checkmark, it means your compilation was successful. If there is any error, Remix wil point out where the error is, and you can debug it accordingly."
   ]
  },
  {
   "cell_type": "markdown",
   "id": "b7b64794",
   "metadata": {},
   "source": [
    "#### Conclusion\n",
    "\n",
    "Well done! You just created and compiled your first smart contract in Solidity."
   ]
  },
  {
   "cell_type": "markdown",
   "id": "720010d0",
   "metadata": {},
   "source": [
    "#### Test yourself\n",
    "\n",
    "1. What does IDE mean and what are Remix main features?\n",
    "   * IDE = Integrated Development Environment\n",
    "   * File explorer, Solidity compiler, and contract deployment\n",
    "2. What's the keyword `pragma` used for?\n",
    "   * specifies the version of the Solidity compiler you want to use\n",
    "3. Explain what compiling a contract means.\n",
    "   * Compiling your code means taking human-readable code and turning it to computer-readable code\n",
    "4. Write an empty contract that contains a SPDX License Identifier and compiles with version 0.8.11 or 0.8.13.\n",
    "```\n",
    "// SPDX-License-Identifier: MIT\n",
    "pragma solidity >=0.8.11 <0.8.14;\n",
    "```"
   ]
  }
 ],
 "metadata": {
  "language_info": {
   "name": "python"
  }
 },
 "nbformat": 4,
 "nbformat_minor": 5
}
