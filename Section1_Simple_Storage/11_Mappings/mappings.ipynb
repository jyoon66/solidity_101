{
 "cells": [
  {
   "cell_type": "markdown",
   "id": "aaaf251e",
   "metadata": {},
   "source": [
    "#### Introduction\n",
    "\n",
    "We have just created a contract that stores multiple `Person`'s names and favorite numbers in a list. In this session, you will learn about mappings, their functionality, and when it is more advantagous to use them.\n",
    "\n",
    "#### Avoiding Costly Iterations\n",
    "\n",
    "If we want to know just one person's favorite number (e.g. Chelsea's) but our contract holds a (long) array of `Person`, we would need to iterate through the whole list to find the desired value:"
   ]
  },
  {
   "cell_type": "code",
   "execution_count": null,
   "id": "4095898a",
   "metadata": {
    "vscode": {
     "languageId": "javascript"
    }
   },
   "outputs": [],
   "source": [
    "list_of_people.add(Person(\"Pat\", 7));\n",
    "list_of_people.add(Person(\"John\", 8));\n",
    "list_of_people.add(Person(\"Mariah\", 10));\n",
    "list_of_people.add(Person(\"Chelsea\", 232));\n",
    "\n",
    "// Go through all the people to check their favorite number.\n",
    "// If name is \"Chelsea\" -> return 232"
   ]
  },
  {
   "cell_type": "markdown",
   "id": "79bc46ac",
   "metadata": {},
   "source": [
    "Iterating through a long list of data is usually expensive and time-consuming, especially when we don not need to access elements by their index.\n",
    "\n",
    "#### Mapping\n",
    "\n",
    "To directly access the desired value without the need to iterate through the whole array, we can use **mappings**. They are sets of (unique) **Keys** linked to a **value** and they are similar to *hash tables* or *dictionaries* in other programming languages. In our case, looking up a *name* (key) will return its correspondent *favorite number* (value).\n",
    "\n",
    "A mapping is defined using the mapping keyword, followed by the key type, the value tyhpe, the visibility, and the mapping name. In our example, we can construct an object that maps every name to its favorite number."
   ]
  },
  {
   "cell_type": "code",
   "execution_count": null,
   "id": "20aec59d",
   "metadata": {
    "vscode": {
     "languageId": "javascript"
    }
   },
   "outputs": [],
   "source": [
    "mapping (string => uint256) public nameToFavoriteNumber;"
   ]
  },
  {
   "cell_type": "markdown",
   "id": "a0b25e66",
   "metadata": {},
   "source": [
    "Previously, we created an `addPerson` function that was adding a struct `Person` to an array `list_of_people`. Let's modify this function and add the struct `Person` to a mapping instead of an array:"
   ]
  },
  {
   "cell_type": "code",
   "execution_count": null,
   "id": "b378fa5d",
   "metadata": {
    "vscode": {
     "languageId": "javascript"
    }
   },
   "outputs": [],
   "source": [
    "nameToFavoriteNumber[_name] = _favoriteNumber;"
   ]
  },
  {
   "cell_type": "markdown",
   "id": "fe1cb980",
   "metadata": {},
   "source": [
    "```\n",
    "IMPORTANT:\n",
    "```\n",
    "* Mappings have a constant time complexity for lookups, meaning that retrieving a value by its key is done in constant time.\n",
    "\n",
    "```\n",
    "NOTE:\n",
    "```\n",
    "* The default value for all key types is zero. In our case, `nameToFavoriteNumber[\"ET\"] equals 0."
   ]
  },
  {
   "cell_type": "markdown",
   "id": "ee329f10",
   "metadata": {},
   "source": [
    "#### Conclusion\n",
    "\n",
    "Mapping can be a versatile tool to increase efficiency when attempting to find elements within a larger set of data."
   ]
  },
  {
   "cell_type": "markdown",
   "id": "39bfe788",
   "metadata": {},
   "source": [
    "#### Test yourself\n",
    "\n",
    "1. In which cases is better to use an array instead of a mapping?\n",
    "   * You need to iterate over elements\n",
    "   * You care about order\n",
    "   * You need index-based access\n",
    "   * You need to know the length/total count\n",
    "\n",
    "2. Create a Solidity contract with a mapping named `addressToBalance`. Implement functions to add and retrieve data from this mapping.\n",
    "\n",
    "contract mapping {\n",
    "\n",
    "    mapping (address => uint256) public addressToBalance;\n",
    "\n",
    "    function addBalance(uint256 amount) external {\n",
    "        addressToBalance[msg.sender] += amount;\n",
    "    }\n",
    "\n",
    "    function getBalance(address user) public view returns(uint256) {\n",
    "        return addressToBalance[user];\n",
    "    }\n",
    "\n",
    "}"
   ]
  }
 ],
 "metadata": {
  "language_info": {
   "name": "python"
  }
 },
 "nbformat": 4,
 "nbformat_minor": 5
}
