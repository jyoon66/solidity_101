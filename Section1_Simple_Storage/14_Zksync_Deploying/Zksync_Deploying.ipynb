{
 "cells": [
  {
   "cell_type": "markdown",
   "id": "3acd6577",
   "metadata": {},
   "source": [
    "#### Introduction\n",
    "\n",
    "With the rising costs of deploying to the Ethereum mainnet, scaling solutions like roll-ups and Layer 2 networks are increasingly in demand. The following lessons will guide you through deploying a smart contract to L2 zkSync. If you've followed the zkSync lessons on the **Blockchain Basics** section, you should have already added zkSync to your MetaMask. If not, we'll walk through that process in the next lesson.\n",
    "\n",
    "#### Testnet Funds\n",
    "\n",
    "To deploy contracts on zkSync, you'll need testnet funds. Tehre are two methods to obtain them:\n",
    "\n",
    "1. **zkSync Faucet**: similar to using a Sepolia faucet, this method allows you to request testnet funds directly.\n",
    "2. **zkSync Bridge**: this method involves transferring funds from Ethereum testnet to zkSync testnet. While free faucets can sometims be unreliable, bridging offers a more consistent solution.\n",
    "\n",
    "#### Deploying\n",
    "\n",
    "To deploy a contract to ZKsync, there are a few key steps to follow. First, it's crucial to configure zkSync in your MetaMask wallet. Next, you'll need to acquire testnet ETH, which is necessary for deploying and testing your contract."
   ]
  }
 ],
 "metadata": {
  "language_info": {
   "name": "python"
  }
 },
 "nbformat": 4,
 "nbformat_minor": 5
}
