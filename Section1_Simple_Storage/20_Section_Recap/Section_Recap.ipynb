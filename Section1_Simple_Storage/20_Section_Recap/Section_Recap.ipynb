{
 "cells": [
  {
   "cell_type": "markdown",
   "id": "1b2a488c",
   "metadata": {},
   "source": [
    "#### Introduction\n",
    "\n",
    "In this section, we'll quickly summarize the lessons from 1 to 9 and learn about EVM and EVM-compatible blockchains.\n",
    "\n",
    "#### EVM\n",
    "\n",
    "EVM stands for *Ethereum Virtual Machine*. It's a decentralized computational engine that executes smart contracts. Any contract that is written in Solidity, can be deployed to any EVM-compatible blockchain. Examples of such blockchains and Layer 2 solutions include **Ethereum**, **Polygon**, **Arbitrum**, **Optimism**, and **ZKsync**.\n",
    "\n",
    "```\n",
    "WARNING:\n",
    "```\n",
    "* Although a blockchain like ZKsync may be EVM-compatible, it is essential to verify that all Solidity keywords are supported\n",
    "\n",
    "#### Contract Setup\n",
    "\n",
    "Before writing any smart contract, always specify the Solidity version you intend to work with, Additionally, include the SPDX license identifier at the top of your file.\n",
    "\n",
    "```\n",
    "// SPDX-License-Identifier: MIT\n",
    "pragma solidity >=0.7.0 <0.9.0;\n",
    "```\n",
    "\n",
    "Next, create a contract object. In Solidity, a `contract` is similar to a class in other programming languages. Everything within the curly brackets `{}` is part of the contract's scope.\n",
    "\n",
    "#### Types and Structures\n",
    "\n",
    "Solidity supports various primitive types such as `uint256` and `bool`, allows the creation of custom types with `struct`, and supports arrays and mappings.\n",
    "\n",
    "#### Functions and Behavior\n",
    "\n",
    "Functions in Solidity can modify the state of the blockchain and execute transactions. Functions that do not modify the blockchain's state are declared with `view` or `pure` keywords.\n",
    "\n",
    "#### Data Locations and Memory\n",
    "\n",
    "Solidity lets you specify different data locations for strings, structs, and array variables. the terms `calldata` and `memory` deonte temporary variables that exist only for the duration of a function call. Conversely, `storage` variables are permanent and remain in the contract indefinitely. Function parameters cannot be `storage` variables, as they exist only for the duration of the function call.\n",
    "\n",
    "When you compile your smart contract, the Solidity code is converted into EVM-compatible bytecode, which is machine-readable code.\n",
    "\n",
    "#### Conclusion\n",
    "\n",
    "Mastering the fundamentals of Solidity, including contract setup, data management, and function behaviors, provides a robust foundation for developing powerful decentralized applications. This foundational knowledge is essential for navigating the complexitites of blockchain technology and leveraging its full potential. Well done!\n",
    "\n",
    "#### Test yourself\n",
    "\n",
    "Attempt to answer all questions from lesson 1 and then go back again to compelte all the coding tasks."
   ]
  }
 ],
 "metadata": {
  "language_info": {
   "name": "python"
  }
 },
 "nbformat": 4,
 "nbformat_minor": 5
}
