{
 "cells": [
  {
   "cell_type": "markdown",
   "id": "b410b0d8",
   "metadata": {},
   "source": [
    "1. Which of these is NOT a valid Solidity type?\n",
    "   * uint256\n",
    "   * bool\n",
    "   * float ***\n",
    "   * bytes32\n",
    "2. What is the struct keyword used for?\n",
    "   * To establish a new data type taht groups multiple variables.\n",
    "3. Which of the following is a location for storage that is NOT temporary?\n",
    "   * Storage\n",
    "4. In Solidity, which of the following function visibility specifiers allows a function to be called internally within the contract and externally by users or other contracts?\n",
    "   * public\n",
    "5. Why can't the storage location be used for new variables inside a function in Solidity?\n",
    "   * Because storage variables are meant to persist between function calls and are only declared at the contract level.\n",
    "6. Given the following mapping `mapping(address => uint256)`, what is the default value returned when accessing a key that does not exist?\n",
    "   * Zero\n",
    "7. What is the purpose of the 'view' keyword when declaring a function in Solidity?\n",
    "   * To indicate that the function only reads state data and does not modify it.\n",
    "8. Which of the following code snippets is a valid way to declare a public function that accepts a uint256 parameter and sets a state variable to its value?\n",
    "   * function store(uint256 _favoriteNumber) public {favoriteNumber = _favoriteNumber;}\n",
    "9. What keyword can be used in a function declaration to specify that the function can only be accessed from within the same contract?\n",
    "   * private"
   ]
  }
 ],
 "metadata": {
  "language_info": {
   "name": "python"
  }
 },
 "nbformat": 4,
 "nbformat_minor": 5
}
