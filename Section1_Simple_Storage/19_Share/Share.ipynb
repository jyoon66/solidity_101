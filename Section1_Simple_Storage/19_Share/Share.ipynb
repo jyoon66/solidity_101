{
 "cells": [
  {
   "cell_type": "markdown",
   "id": "adffab63",
   "metadata": {},
   "source": [
    "Congratulations! You should be really proud of yourself, and the web3 community is proud of you too. If you have a Twitter account (or create one), we'd love to hear from you.\n",
    "\n",
    "In the GitHub repository for this course, go to the [Tweet Me](https://github.com/Cyfrin/foundry-full-course-cu?tab=readme-ov-file#-tweet-me-add-your-contract-in) section. Clicking this link will open a tweet, encouraging you to share your success in deploying your first contract to L2."
   ]
  }
 ],
 "metadata": {
  "language_info": {
   "name": "python"
  }
 },
 "nbformat": 4,
 "nbformat_minor": 5
}
