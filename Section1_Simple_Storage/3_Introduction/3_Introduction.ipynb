{
 "cells": [
  {
   "cell_type": "markdown",
   "id": "50eb5cc3",
   "metadata": {},
   "source": [
    "### Introduction\n",
    "\n",
    "To get started, navigate to the official *Cyfrin Updraft* [GitHub repository](https://github.com/Cyfrin/foundry-full-course-cu)\n",
    "\n",
    "```\n",
    "IMPORTANT: \n",
    "Each course will have an associated link, where you'll find all the code that you will be wowking on within in each lesson and a README section, that contains instructions on how to work with the code.\n",
    "```\n",
    "\n",
    "The interface might look slightly different when you first access it. What you're looking for is the repository associated with this lesson. This repository will contain all the code required for this stage of the course, together with a `README` section. The `README` will provide you with a wealth of notes on how to work with the code."
   ]
  },
  {
   "cell_type": "markdown",
   "id": "a2c77a06",
   "metadata": {},
   "source": [
    "#### Repository usage\n",
    "\n",
    "The repository serves two main purposes:\n",
    "* **Easy access:** each lesson can be consulted and cloned effortlessly\n",
    "* **Discussion and Network:** you can engage with fellow students, ask questions, and participate in collaborative learning.\n",
    "\n",
    "```\n",
    "CAUTION:\n",
    "To raise issues or start discussions based on a specific repository, please use the [Discussions tab](https://github.com/Cyfrin/foundry-full-course-cu/discussions) of the Cyfrin Updraft - Career Path instead of creating issues directly on the repository itself.\n",
    "```"
   ]
  },
  {
   "cell_type": "markdown",
   "id": "1986c46d",
   "metadata": {},
   "source": [
    "#### Asking Questions\n",
    "\n",
    "It's very likely that during your journey you'll have questions. It's recommended to use the [Q&A](https://github.com/Cyfrin/foundry-full-course-cu/discussions/new?category=q-a) section provided inside the discussion tab. You will be guided into how to best formulate your doubts and queries, such that it will have the highest chance of being answered by the community, AI or a forum."
   ]
  },
  {
   "cell_type": "markdown",
   "id": "7de9a190",
   "metadata": {},
   "source": [
    "#### Setting Up\n",
    "\n",
    "Before we dive into coding, it is essential that you have access to the code repository and educational resources provided.\n",
    "\n",
    "Having an account on the following platforms is highly recommended:\n",
    "\n",
    "* GitHub\n",
    "* Stack Exchange Ethereum\n",
    "* ChatGPT (but remember it might not always provide accurate information).\n",
    "* Google Gemini (Google's Free GPT Alternative that understands YouTube videos for summarization, data extraction and content-seek)."
   ]
  },
  {
   "cell_type": "markdown",
   "id": "9c0fd3bf",
   "metadata": {},
   "source": [
    "#### Conclusion\n",
    "\n",
    "Now comes the exciting part: building and deploying your first smart contract. We're going to be utilizing a tool called Remix, an IDe (Integrated Development Environment) for deploying and interacting with smart contracts. You can access it through this [link](https://remix.ethereum.org/). \n",
    "\n",
    "```\n",
    "TIP:\n",
    "The best way to get the most out of this guide is to CODE ALONG. You're encouraged to change the speed of the tutorial video to match your coding pace. Remember that SPACE REPETITION is critical while building a new skill.\n",
    "```\n",
    "\n",
    "After concluding the next lesson, you'll have already built and deployed your first smart contract to a blockchain. Let's jump right into it!"
   ]
  },
  {
   "cell_type": "markdown",
   "id": "4cef5bba",
   "metadata": {},
   "source": [
    "#### Test yourself\n",
    "\n",
    "At the end of each lesson, you will find a *Test Yourself* section. This part will help reinforce the concepts you just learned and coded about. There will be *theoretical* questions -- marked with 📕, as well as *coding* questions -- marked with 👨‍💻.\n",
    "\n",
    "```\n",
    "TIP:\n",
    "Be sure that you TRULY understand the answers before going on to the next lesson.\n",
    "```"
   ]
  }
 ],
 "metadata": {
  "language_info": {
   "name": "python"
  }
 },
 "nbformat": 4,
 "nbformat_minor": 5
}
