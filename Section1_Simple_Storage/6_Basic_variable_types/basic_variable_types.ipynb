{
 "cells": [
  {
   "cell_type": "markdown",
   "id": "1221d6e4",
   "metadata": {},
   "source": [
    "### Solidity Types\n",
    "\n",
    "Solidity supports various *elementary* types that can be combined to create more *complex* ones. You can read more about them in the [Solidity documentation](https://docs.soliditylang.org/en/v0.8.20/types.html#types).\n",
    "\n",
    "For now, let's focus on the most commonly used\n",
    "\n",
    "* Boolean (bool): true or false\n",
    "* Unsigned integer (uint): unsigned whole number (positive)\n",
    "* Integer (int): signed whole number (positive and negative)\n",
    "* Address (address): 20 bytes value. An example of an address can be found within your MetaMask account.\n",
    "* Bytes (bytes): low-level raw byte data"
   ]
  },
  {
   "cell_type": "markdown",
   "id": "86aaf23c",
   "metadata": {},
   "source": [
    "#### Variables definition\n",
    "\n",
    "Variables are just placeholders for **values**. A value can be one **data type** described in the list above. For instance, we could create a Boolean variable named `hasFavoriteNumber`, which would represent whether someone has a favorite number or not (constant `true` or `false`).\n",
    "\n",
    "```\n",
    "bool hasFavoriteNumber = true; // The variable 'hasFavoriteNumber' represents the value 'true'\n",
    "```\n",
    "\n",
    "It's possible to specify the number of **bits** used for `uint` and `int`. For example, uint256 specifies that the variable has 256 bits. uint is shorthand for uint256.\n",
    "\n",
    "```\n",
    "NOTE:\n",
    "It's always advisable to be EXPLICIT when specifying the length of the data type.\n",
    "```\n",
    "\n",
    "The *semicolon* at the end of each line signifies that a statement is completed.\n",
    "\n",
    "```\n",
    "SPDX-License-Identifier: MIT\n",
    "pragma solidity 0.8.19;\n",
    "\n",
    "contract SimpleStorage {\n",
    "    // Basic types\n",
    "    bool hasFavoriteNumber = true;\n",
    "    uint256 favoriteNumber = 88;\n",
    "    string favoriteNumberInText = \"eighty-eight\";\n",
    "    int256 favoriteInt = -88;\n",
    "    address myAddress = 0xaB1B7206AA6840C795aB7A6AE8b15417b7E63a8d;\n",
    "    bytes32 favoriteBytes32 = \"cat\";\n",
    "}\n",
    "```"
   ]
  },
  {
   "cell_type": "markdown",
   "id": "7c592751",
   "metadata": {},
   "source": [
    "#### Bytes and strings\n",
    "\n",
    "Bytes are a *collection of characters** written in hexadecimal representation.\n",
    "\n",
    "```\n",
    "bytes1 minBytes = \"I am a fixed size byte array of 1 byte\";\n",
    "bytes32 maxBytes = \"I am a fixed size byte array of 32 bytes\";\n",
    "bytes dynamicBytes = \"I am a dynamic array, so you can manipulate my size\";\n",
    "```\n",
    "\n",
    "Bytes can be allocated in size (up to `bytes32`). However, bytes and bytes32 represent distinct data types.\n",
    "\n",
    "**Strings** are internally represented as *dynamic byte arrays* (`bytes` type) and designed specifically for working with text. For this reason, a string can easily be converted into bytes.\n",
    "\n",
    "[Bits and Bytes overview](https://www.youtube.com/watch?v=Dnd28lQHquU)"
   ]
  },
  {
   "cell_type": "markdown",
   "id": "add8d004",
   "metadata": {},
   "source": [
    "#### The contract logic\n",
    "\n",
    "Let's explore a scenario where there is a task involving the storage of a favorite number. For this purpose, we can start storing the variable `favoriteNumber` of type `uint`:\n",
    "\n",
    "```\n",
    "uint256 favoriteNumber;\n",
    "```\n",
    "\n",
    "```\n",
    "IMPORTANT:\n",
    "Every variable in Solidity comes with a *default value*. Uninitialized uint256 for example, defaults to `0` (zero) and an uninitialized boolean defaults to `false`.\n",
    "```"
   ]
  },
  {
   "cell_type": "markdown",
   "id": "595be67e",
   "metadata": {},
   "source": [
    "#### Conclusion\n",
    "\n",
    "You've just filled in your first smart contract with variables and you explored the fundamental data types in Solidity."
   ]
  },
  {
   "cell_type": "markdown",
   "id": "74dbcf25",
   "metadata": {},
   "source": [
    "#### Test yourself\n",
    "\n",
    "1. What's the difference between a variable and a value?\n",
    "   * Variables are placeholders that you assign a value\n",
    "   * A value is a specific data type that you can assign to variables\n",
    "2. Describe the default value of the following types: bool, uint, int256, string, address, bytes, bytes32\n",
    "   * bool = false\n",
    "   * uint = 0\n",
    "   * int256 = 0\n",
    "   * string = \"\" (empty string)\n",
    "   * address = 0x0000000000000000000000000000000000000000\n",
    "   * bytes = 0x\n",
    "   * bytes32 = 0x0000000000000000000000000000000000000000000000000000000000000000\n",
    "3. How does uint differ from bytes?\n",
    "   * uint is an unsigned integer where you can assign a whole number value\n",
    "   * bytes are low-level raw byte data\n",
    "4. Write a smart contract that contains at least five storage variables, each with a distinct data type.\n",
    "```\n",
    "contract five_storage {\n",
    "   bytes32 bytesExample = \"dog\";\n",
    "   int256 intExample = -42;\n",
    "   string stringExample = \"luca\";\n",
    "   uint256 uintExample = 42;\n",
    "   bool boolExample = false;\n",
    "}\n",
    "```"
   ]
  }
 ],
 "metadata": {
  "language_info": {
   "name": "python"
  }
 },
 "nbformat": 4,
 "nbformat_minor": 5
}
