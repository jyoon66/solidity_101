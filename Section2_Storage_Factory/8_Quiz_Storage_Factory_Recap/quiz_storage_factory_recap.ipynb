{
 "cells": [
  {
   "cell_type": "markdown",
   "id": "05661c10",
   "metadata": {},
   "source": [
    "1. What must be included when overriding a method from a parent contract in Solidity?\n",
    "   * The function name, parameters, visibility, return type, and override keyword.\n",
    "\n",
    "2. How are the keywords override and virtual used together in Solidity?\n",
    "   * virtual is used in a parent contract to allow a function to be overridden, while override is used in a child contract to provide a new implementation for that function.\n",
    "\n",
    "3. What does the new keyword tell to the compiler?\n",
    "   * It tells the compiler that a new contract isntance is intended to be deployed after compilation."
   ]
  }
 ],
 "metadata": {
  "language_info": {
   "name": "python"
  }
 },
 "nbformat": 4,
 "nbformat_minor": 5
}
