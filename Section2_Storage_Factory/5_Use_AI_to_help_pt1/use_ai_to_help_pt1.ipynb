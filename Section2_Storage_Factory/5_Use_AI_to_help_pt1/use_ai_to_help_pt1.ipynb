{
 "cells": [
  {
   "cell_type": "markdown",
   "id": "1d5c6705",
   "metadata": {},
   "source": [
    "#### Introduction\n",
    "\n",
    "If you run into (a lot of) questions, it means that you are thinking critically and you are approaching the subject the right way. In this lesson, we'll do an AI-chat example and learn how to effectively ask questions. AI chat platforms like **ChatGPT** and **Gemini** effectiveness of the answers.\n",
    "\n",
    "#### Ask questions effectively\n",
    "\n",
    "For example, let's say that you cannot understand the difference between `simpleStorage` and `SimpleStorage` very well:"
   ]
  },
  {
   "cell_type": "code",
   "execution_count": null,
   "id": "5bffed2e",
   "metadata": {
    "vscode": {
     "languageId": "javascript"
    }
   },
   "outputs": [],
   "source": [
    "simpleStorage = new SimpleStorage();"
   ]
  },
  {
   "cell_type": "markdown",
   "id": "fc258360",
   "metadata": {},
   "source": [
    "We can ask the AI to clarify it by:\n",
    "\n",
    "1. highlighting **only the line(s)** you're confused about and copy it.\n",
    "2. Paste these lines within your question in a **code block format**. YOu can create a code block by adding three backticks ``` before and three backticks after some text. This will explicityly indicate to the AI that you are referring to a piece of code and not just to a simple text.\n",
    "\n",
    "This is the AI prompt:"
   ]
  },
  {
   "cell_type": "raw",
   "id": "8ccb0a4a",
   "metadata": {
    "vscode": {
     "languageId": "raw"
    }
   },
   "source": [
    "Hi, I'm having a hard time understanding the difference between these simple storages on this line:\n",
    "```// paste the confusing line of code here```\n",
    "Here is my full code:\n",
    "```// paste the full code here````"
   ]
  },
  {
   "cell_type": "markdown",
   "id": "e7b82165",
   "metadata": {},
   "source": [
    "#### AI answer\n",
    "\n",
    "The AI can provide insightful and very comprehensive answers. For instance, an AI my indicate that `simpleStorage` is a variable type `SimpleStorage`, which is a contract defined in the file `SimpleStorage.sol`.\n",
    "\n",
    "```\n",
    "IMPORTANT:\n",
    "```\n",
    "* AI systems are highly efficient at solving basic coding tasks. However, as the complexity of codebases and projects increases, the effectiveness of AI begins to diminish. Advanced tasks often require deep contextual understanding, innovative problem-solving, and area integrations where current AI capabilities fall short.\n",
    "\n",
    "#### Other resources\n",
    "\n",
    "Despite their overwhelming benefits, AI chat platfroms are not infallible and they can get things wrong. During that time, you can engage in other platforms like **Stack Exchange**, or the discussion forums related to the course on the topic you're studying. For instance, when querying about `SimpleStorage`, an AI response might refer to a 'stored data variable', which doesn't exist in the code you provided. This demonstrates how AI often operates on context-based inference and may occasionally connect to unrelated concepts.\n",
    "\n",
    "#### Conclusion\n",
    "\n",
    "AI systems are excelllent for basic coding tasks but may struggle with complex projects, which require deep understanding and innnovative solutions. For more precise help, highlight specific code lines in a code block or you can use additional resources like Stack Exchange for further clarification.\n",
    "\n",
    "#### Test yourself\n",
    "\n",
    "1. Review the first section of this Solidity course again. Identify three concepts that seem unclear and ask the AI to explain them to you."
   ]
  }
 ],
 "metadata": {
  "language_info": {
   "name": "python"
  }
 },
 "nbformat": 4,
 "nbformat_minor": 5
}
