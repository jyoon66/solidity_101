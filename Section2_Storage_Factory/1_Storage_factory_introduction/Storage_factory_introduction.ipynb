{
 "cells": [
  {
   "cell_type": "markdown",
   "id": "a8372ea7",
   "metadata": {},
   "source": [
    "#### Introduction\n",
    "\n",
    "You can find the code for this section in the [Remix Storage Factory Github repository](https://github.com/Cyfrin/remix-storage-factory-cu). In these 9 lessons, we'll work with 3 new contracts:\n",
    "\n",
    "1. `SimpleStorage.sol` - the contract we built in the previous section, with some modifications\n",
    "2. `AddFiveStorage.sol` - a child contract of `SimpleStorage` that leverages *inheritance*\n",
    "3. `StorageFactory.sol` - a contract that will *deploy* a `SimpleStorage` contract and *interact* with it\n",
    "\n",
    "#### Section Overview"
   ]
  },
  {
   "cell_type": "code",
   "execution_count": null,
   "id": "27e14082",
   "metadata": {
    "vscode": {
     "languageId": "javascript"
    }
   },
   "outputs": [],
   "source": [
    "contract StorageFactory {\n",
    "    SimpleStorage[] public listOfSimpleStorageContracts;\n",
    "\n",
    "    function createSimpleStorageContract() public {};\n",
    "    function sfStore(uint256 _simpleStorageIndex, uint256 _simpleStorageNumber) public {};\n",
    "    function sfGet(uint256 _simpleStorageIndex) public view returns (uint256) {}\n",
    "}"
   ]
  },
  {
   "cell_type": "markdown",
   "id": "5d9fc956",
   "metadata": {},
   "source": [
    "After deploying `StorageFactory` and executing its function `createSimpleStorageContract`, we can observe a new transaction appear in the Remix terminal. It's a **deployment transaction** of the `SimpleStorage` contract, executed by the `StorageFactory` contract.\n",
    "\n",
    "It's possible to interact with this newly deployed `SimpleStorage` via the `store` function. We'll do this by using the `sfStore` function from the `StorageFactory` contract. This function accepts two parameters: the index of a deployed `SimpleStorage` contract, which will be '0' since we just deployed one contract, and the value of a `favoriteNumber`.\n",
    "\n",
    "The `sfGet` function, when given the input '0', will indeed return the number provided by the previous function. The **address** of the `SimpleStorage` contract can then be retrieved by clikcing on the get function `listOfSimpleStorageContracts`.\n",
    "\n",
    "#### Conclusion\n",
    "\n",
    "The `StorageFactory` contract manages numerous instances of an external contract `SimpleStorage`. It provides funcitonality to deploy new contract instances dynamically and allows for the storage and retrieval of values from each instance. These instances are maintained and organized within an array, enabling efficient tracking and interaction.\n",
    "\n",
    "#### Test yourself\n",
    "\n",
    "1. What is the primary role of the `StorageFactory` contract?\n",
    "   * The primary role of `StorageFactory` is to create a `SimpleStorageContract` and store the index of a `SimpleStorage` contract as well as a number associated with this contract in an array.\n",
    "2. Why is it important to specify the index when calling the `sfStore` function?\n",
    "   * So it can access the correct `SimpleStorageContract` if storing multiple ones."
   ]
  }
 ],
 "metadata": {
  "language_info": {
   "name": "python"
  }
 },
 "nbformat": 4,
 "nbformat_minor": 5
}
