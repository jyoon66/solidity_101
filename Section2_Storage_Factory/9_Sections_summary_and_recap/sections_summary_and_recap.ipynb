{
 "cells": [
  {
   "cell_type": "markdown",
   "id": "4755a7a8",
   "metadata": {},
   "source": [
    "#### Introduction\n",
    "\n",
    "This section covered how to deploy contracts, how to import and interact with them, and using inheritance to customize their functionalities.\n",
    "\n",
    "#### Deploying and importing\n",
    "\n",
    "We delved into the use of the `new` keyword to deploy multiple instances of a contract, allowing for the creation of numerous contract instances as needed.\n",
    "\n",
    "Contracts can also be **imported**, which is equivalent to copying the code into the file but with the advantage of enhanced code reusability and modularity. It's good practice to use *named imports*, selecting only the contracts we intend to use from the file."
   ]
  },
  {
   "cell_type": "code",
   "execution_count": null,
   "id": "3a08e530",
   "metadata": {
    "vscode": {
     "languageId": "javascript"
    }
   },
   "outputs": [],
   "source": [
    "import { Contract as MyContract } from './myOtherContract.sol';"
   ]
  },
  {
   "cell_type": "markdown",
   "id": "61a74b07",
   "metadata": {},
   "source": [
    "#### Contracts interaction\n",
    "\n",
    "Solidity lets you interact with other contracts. To do so we need the contract's address and its ABI (Application Binary Interface):"
   ]
  },
  {
   "cell_type": "code",
   "execution_count": null,
   "id": "be9b875c",
   "metadata": {
    "vscode": {
     "languageId": "javascript"
    }
   },
   "outputs": [],
   "source": [
    "contract AddFiveStorage is SimpleStorage {}"
   ]
  },
  {
   "cell_type": "markdown",
   "id": "854ed4cf",
   "metadata": {},
   "source": [
    "#### Inheritance and overriding\n",
    "\n",
    "A contract can also derive functions from other contracts through **inheritance**. This can be obtained through the `is` keyword. To explicitly override a function from the parent contract, the `override` keyword is used in the child method. The parent's function must be marked as `virtual` to allow this interaction.\n",
    "\n"
   ]
  },
  {
   "cell_type": "code",
   "execution_count": null,
   "id": "ffff63f1",
   "metadata": {
    "vscode": {
     "languageId": "javascript"
    }
   },
   "outputs": [],
   "source": [
    "// child contract\n",
    "import './ParenContract.sol';\n",
    "contract ChildContract is ParentContract {\n",
    "    function store(uint256 _num) public override {}\n",
    "}"
   ]
  },
  {
   "cell_type": "code",
   "execution_count": null,
   "id": "e4067ea1",
   "metadata": {
    "vscode": {
     "languageId": "javascript"
    }
   },
   "outputs": [],
   "source": [
    "// parent contract\n",
    "function store(uint256 _num) public virtual {\n",
    "    // function body\n",
    "}"
   ]
  },
  {
   "cell_type": "markdown",
   "id": "6caeb2d1",
   "metadata": {},
   "source": [
    "#### Conclusion\n",
    "\n",
    "In this section, we explored deploying multiple contract instances using the `new` keyword and enhancing code reusability through contract *imports*. We also covered interacting with other contracts using their address and ABI. Additionally, we learned about inheritance and function overriding, allowing derived contracts to customize inherited functionalities. \n",
    "\n",
    "```\n",
    "TIP:\n",
    "```\n",
    "* When you finish a section, take a moment to acknowledge your progress, celebrate it and share your achievements with your communtiy.\n",
    "\n",
    "#### Test yourself\n",
    "\n",
    "Attempt to answer all the theoretical questions from lesson 1 through 7, and then go back again to complete all the coding tasks."
   ]
  }
 ],
 "metadata": {
  "language_info": {
   "name": "python"
  }
 },
 "nbformat": 4,
 "nbformat_minor": 5
}
