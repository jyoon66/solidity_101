{
 "cells": [
  {
   "cell_type": "markdown",
   "id": "0ee3dd58",
   "metadata": {},
   "source": [
    "#### Introduction \n",
    "\n",
    "In this `StorageFactory` setup, we'll explore what *composability* means, showing its ability to deploy and interact with external `SimpleStorage` cotnracts.\n",
    "\n",
    "#### StorageFactory setup\n",
    "\n",
    "You can begin by visiting the [Gihub repository of the previous section](https://github.com/cyfrin/remix-simple-storage-cu) and copying the contract `SimpleStorage` inside Remix. This contract allows to store a favorite number, a list of people with their favorite number, a mapping and different functionalities to interact with them. This lesson aims to create a **new contract** that can deploy and interact with `SimpleSotrage`.\n",
    "\n",
    "```\n",
    "IMPORTANT:\n",
    "```\n",
    "* One of the fundamental aspects of blockchain development is the seamless and permissionless interaction between contracts, known as **composability**. This is particularly crucial in decentralized finance (DeFi), where complex financial products interact effortlessly through common smart contract interfaces.\n",
    "\n",
    "Let's set up the backbone of the code, that contains the function `createSimplestorageContract`. This function will deploy a `SimpleStorage` contract and save the result into a *storage variable*:"
   ]
  },
  {
   "cell_type": "code",
   "execution_count": null,
   "id": "73cd9d53",
   "metadata": {
    "vscode": {
     "languageId": "javascript"
    }
   },
   "outputs": [],
   "source": [
    "// SPDX-License-Identifier: MIT\n",
    "pragma solidity ^0.8.18;\n",
    "\n",
    "contract StorageFactory {\n",
    "\n",
    "    function createSimplestorageContract() public {\n",
    "        // How does StorageFactory know what SimpleStorage looks like?\n",
    "    }\n",
    "}"
   ]
  },
  {
   "cell_type": "markdown",
   "id": "710af600",
   "metadata": {},
   "source": [
    "We need to establish a connection between the two contracts, since `StorageFactory` needs to have a complete knowledge of `SimpleStorage`. One first approach could be copying the `SimpleStorage` contract above `StorageFactory`.\n",
    "\n",
    "```\n",
    "NOTE:\n",
    "```\n",
    "* It's allowed to have multiple contracts in the same file. As best practice, however, it's recommended to use only one file for each contract\n",
    "\n",
    "```\n",
    "TIP:\n",
    "```\n",
    "* You can avoid confusion by keeping open **only** the file(s) you're currently working on.\n",
    "\n",
    "#### Conclusion\n",
    "\n",
    "In this setup, we'll delve into the concept of *composability* and develop the `StorageFactory` contract, which will be capable of deploying and interacting with a `SimpleStorage` contract.\n",
    "\n",
    "#### Test yourself\n",
    "\n",
    "1. What does *composability* mean?\n",
    "   * Composability is the seamless and permissionless interaction between contracts.\n",
    "\n",
    "2. How many contracts is possible to deploy inside one .sol file?\n",
    "   * You can deine and deploy as many contracts as you want."
   ]
  }
 ],
 "metadata": {
  "language_info": {
   "name": "python"
  }
 },
 "nbformat": 4,
 "nbformat_minor": 5
}
