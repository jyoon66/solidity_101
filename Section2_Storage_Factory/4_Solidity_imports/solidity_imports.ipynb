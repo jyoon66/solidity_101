{
 "cells": [
  {
   "cell_type": "markdown",
   "id": "ef34ca6d",
   "metadata": {},
   "source": [
    "#### Introduction\n",
    "\n",
    "In the previous lesson, we integrated the `SimpleStorage` code directly into the `StorageFactory` contract. This allowed `StorageFactory` to have full access to the `SimpleStorage` contract's functionality. In this lesson, we will explore a more efficient way to arrange and organize the code by using the `import` statement.\n",
    "\n",
    "#### Importing code\n",
    "\n",
    "The `import` keyword enables a contract to utilize code from other files without needing to include the entire codebase directly within the contract. Here are the two of the main advantages that the `import` keywords provides:\n",
    "\n",
    "1. **No cluttering**: it prevents your current file from being cluttered with numerous lines of code, keeping it clean and organized.\n",
    "2. **Simplified maintenance**: by keeping the code in separate files, it becomes easier to maintain and update individual components without affecting the entire codebase. For example, if we change some lines inside `SimpleStorage`, we would have also to constantly copy-paste the modified content into `StorageFactory`\n",
    "\n",
    "You can now remove the previously added `SimpleStorage` code and replace it with the `import` shorthand:"
   ]
  },
  {
   "cell_type": "code",
   "execution_count": null,
   "id": "86456a91",
   "metadata": {
    "vscode": {
     "languageId": "javascript"
    }
   },
   "outputs": [],
   "source": [
    "import \"./SimpleStorage.sol\";"
   ]
  },
  {
   "cell_type": "markdown",
   "id": "82b84f30",
   "metadata": {},
   "source": [
    "```\n",
    "WARNING:\n",
    "```\n",
    "* All the solidity contracts should be compiled together using the *same compiler version*. It's important to ensure **consistency** between compiler versions across files since each one will have its own `pragma` statement.\n",
    "\n",
    "#### Named Imports\n",
    "\n",
    "Let's assume for a moment that `Simplestorage` would contain multiple contracts, e.g. `SimpleStorage`, `SimpleStorage1`, `SimpleStorage2`, which are quite extensive in size. If we import the whole file as we did before, the statement will replace the `import` directive with *all* the code contained in `SimpleStorage.sol`. This will result in an unnecessary expensive deployment of the `StorageFactory` contract.\n",
    "\n",
    "This can prevented with **named imports**, which allow you to selectively import only the specific contracts you intend to use:"
   ]
  },
  {
   "cell_type": "code",
   "execution_count": null,
   "id": "89801d96",
   "metadata": {
    "vscode": {
     "languageId": "javascript"
    }
   },
   "outputs": [],
   "source": [
    "import { SimpleStorage } from \"./SimpleStorage.sol\";"
   ]
  },
  {
   "cell_type": "markdown",
   "id": "24254d10",
   "metadata": {},
   "source": [
    "You can also use named imports to import multiple contracts:"
   ]
  },
  {
   "cell_type": "code",
   "execution_count": null,
   "id": "bfe5b419",
   "metadata": {
    "vscode": {
     "languageId": "javascript"
    }
   },
   "outputs": [],
   "source": [
    "import { SimpleStorage, SimpleStorage1 } from \"./SimpleStorage.sol\";"
   ]
  },
  {
   "cell_type": "markdown",
   "id": "457b02b4",
   "metadata": {},
   "source": [
    "```\n",
    "IMPORTANT:\n",
    "```\n",
    "* Try to always default to named imports instead of importing the entire file.\n",
    "\n",
    "#### Conclusion\n",
    "\n",
    "The import keyword allows a contract to use code from other files without including the entire codebase. However, it can introduce compilation issues if different compiler versions are used in these files.\n",
    "\n",
    "#### Test yourself\n",
    "\n",
    "1. What's a named import and what are the advantages of using it?\n",
    "   * A named import is a method that allws you to selectively import a specific contract(s) into the current contract.\n",
    "   * The advantages of using a named import is that you are saving resources by importing only the contracts you need instead of all contracts within a .sol file.\n",
    "\n",
    "2. In which way the `pragma` keyword can cause issues while using the `import` statement? Make 2 examples.\n",
    "   * If the imported file has a different pragma version than the main contract\n",
    "   * If one of the files had an overly restrictive pragma argument (i.e. strictly 0.8.13)"
   ]
  }
 ],
 "metadata": {
  "language_info": {
   "name": "python"
  }
 },
 "nbformat": 4,
 "nbformat_minor": 5
}
