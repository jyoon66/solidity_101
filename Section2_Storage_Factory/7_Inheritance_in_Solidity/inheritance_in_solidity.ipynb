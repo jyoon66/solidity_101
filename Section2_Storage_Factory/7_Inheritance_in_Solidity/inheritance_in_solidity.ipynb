{
 "cells": [
  {
   "cell_type": "markdown",
   "id": "92ca313d",
   "metadata": {},
   "source": [
    "#### Introduction\n",
    "\n",
    "In this lesson, we are going to introduce the concept of **inheritance** and **overriding**, two powerful tools that allow developers to create more modular, maintainable, and reusable smart contracts. By leveraging these techniques, you can build upon existing contracts and customize their functions.\n",
    "\n",
    "#### Inheritance\n",
    "\n",
    "We are going to enhance the `SimpleStorage` contract by adding a new functionality: the ability to add five (5) to the stored `favoriteNumber`. To achieve this, we could duplicate the existing `SimpleStorage` contract and make changes to the new version. However, this approach leads to redundant code. A better practice could be to utilize **inheritance**, which is the mechanism that llows the `AddFiveStorage` contract to derive all the functionalities of `SimpleStorage`.\n",
    "\n",
    "Let's begin by creating a new file `AddFiveStorage.sol` and name-importing `SimpleStorage.sol`:"
   ]
  },
  {
   "cell_type": "code",
   "execution_count": null,
   "id": "db1ab2a1",
   "metadata": {
    "vscode": {
     "languageId": "javascript"
    }
   },
   "outputs": [],
   "source": [
    "// SPDX-License-Identifier: MIT\n",
    "pragma solidity ^0.8.18;\n",
    "import {SimpleStorage} from \"./SimpleStorage.sol\";\n",
    "\n",
    "contract AddFiveStorage is SimpleStorage {}"
   ]
  },
  {
   "cell_type": "markdown",
   "id": "cae54bf8",
   "metadata": {},
   "source": [
    "The `is` keyword signifies inheritance and links the parent contract `SimpleStorage` to its child contract, `AddFiveStorage`.\n",
    "\n",
    "#### Override and virtual\n",
    "\n",
    "The `AddFiveStorage` contract now inherits all methods from `SimpleStorage`. It's possible to add new functions to it, for example:"
   ]
  },
  {
   "cell_type": "code",
   "execution_count": null,
   "id": "08415eb5",
   "metadata": {
    "vscode": {
     "languageId": "javascript"
    }
   },
   "outputs": [],
   "source": [
    "function sayHello() public pure returns(string memory) {\n",
    "    return \"Hello\";\n",
    "}"
   ]
  },
  {
   "cell_type": "markdown",
   "id": "e6aab4bd",
   "metadata": {},
   "source": [
    "We can also modify existing functions from `SimpleStorage` by using the `override` keyword. Let's say that we want to modify the `store` function, adding '5' to the favorite number being stored. If we copy the exact signature of the `store` function, an error will occur:"
   ]
  },
  {
   "cell_type": "code",
   "execution_count": null,
   "id": "be7231a7",
   "metadata": {
    "vscode": {
     "languageId": "javascript"
    }
   },
   "outputs": [],
   "source": [
    "function store(uint256 _newFavNumber) public {\n",
    "    \n",
    "}"
   ]
  },
  {
   "cell_type": "code",
   "execution_count": null,
   "id": "b769ce9e",
   "metadata": {
    "vscode": {
     "languageId": "javascript"
    }
   },
   "outputs": [],
   "source": [
    "TypeError: Overriding function is missing \"override\" specifier."
   ]
  },
  {
   "cell_type": "markdown",
   "id": "6b297d75",
   "metadata": {},
   "source": [
    "```\n",
    "NOTE:\n",
    "```\n",
    "* To override a method from the parent contract, we must replicate the exact function signature, including its name, parameters and adding the visibility and the `override` keyword to it:"
   ]
  },
  {
   "cell_type": "code",
   "execution_count": null,
   "id": "fde1a3eb",
   "metadata": {
    "vscode": {
     "languageId": "javascript"
    }
   },
   "outputs": [],
   "source": [
    "function store(uint256 _newFavNumber) public override {}"
   ]
  },
  {
   "cell_type": "markdown",
   "id": "f7267229",
   "metadata": {},
   "source": [
    "Yet, another error will pop up:"
   ]
  },
  {
   "cell_type": "code",
   "execution_count": null,
   "id": "a91309f3",
   "metadata": {
    "vscode": {
     "languageId": "javascript"
    }
   },
   "outputs": [],
   "source": [
    "TypeError: Trying to override a non-virtual function."
   ]
  },
  {
   "cell_type": "markdown",
   "id": "1c650e34",
   "metadata": {},
   "source": [
    "To address this, we need to mark the `store` function in `SimpleStorage.sol` as **virtual**, enabling it to be overridden by child contracts:"
   ]
  },
  {
   "cell_type": "code",
   "execution_count": null,
   "id": "d7f435d9",
   "metadata": {
    "vscode": {
     "languageId": "javascript"
    }
   },
   "outputs": [],
   "source": [
    "function store(uint256 favNumber) public virtual {\n",
    "    // function body\n",
    "}"
   ]
  },
  {
   "cell_type": "markdown",
   "id": "ca9f3ca2",
   "metadata": {},
   "source": [
    "Finally, we can add the new functionality to the `store` function in `AddFiveStorage`, allowing it to add '5' to the stored `favoriteNumber`:"
   ]
  },
  {
   "cell_type": "code",
   "execution_count": null,
   "id": "3f2bf2b8",
   "metadata": {
    "vscode": {
     "languageId": "javascript"
    }
   },
   "outputs": [],
   "source": [
    "function store(uint256 _newFavNumber) public override {\n",
    "    favoriteNumber = _newFavNumber + 5;\n",
    "}"
   ]
  },
  {
   "cell_type": "markdown",
   "id": "2459a1a9",
   "metadata": {},
   "source": [
    "#### Conclusion\n",
    "\n",
    "In this lesson, we utilized inheritance to modify the `SimpleStorage` contract, without rewriting all its code. After deploying the contractg `AddFiveStorage` and storing the number 2, it will return the `favoriteNumber` 7. This confirms that the `store` function in `AddFiveStorage` contract successfully overrides the existent `store` function in `SimpleStorage`.\n",
    "\n",
    "#### Test yourself\n",
    "\n",
    "1. Why do we need inheritence to extend a contract's functionality?\n",
    "   * So we can use functions from another contract without rewriting all the code again\n",
    "\n",
    "2. How are the keywords `override` and `virtual` used together?\n",
    "   * You set the original function as `virtual` and then you can modify the new function by setting as `override`\n",
    "\n",
    "3. Create a contract `Squared` that overrides the `store` function and returns the favorite number squared.\n",
    "\n",
    "```\n",
    "contract Squared is SimpleStorage {\n",
    "\n",
    "   function store(uint256 _newFavNumber) public override {\n",
    "    favoriteNumber = _newFavNumber ** 2;\n",
    "   }\n",
    "    \n",
    "}\n",
    "```"
   ]
  }
 ],
 "metadata": {
  "language_info": {
   "name": "python"
  }
 },
 "nbformat": 4,
 "nbformat_minor": 5
}
